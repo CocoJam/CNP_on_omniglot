{
 "cells": [
  {
   "cell_type": "code",
   "execution_count": 1,
   "metadata": {},
   "outputs": [
    {
     "name": "stderr",
     "output_type": "stream",
     "text": [
      "C:\\Users\\james\\Anaconda3\\lib\\site-packages\\h5py\\__init__.py:36: FutureWarning: Conversion of the second argument of issubdtype from `float` to `np.floating` is deprecated. In future, it will be treated as `np.float64 == np.dtype(float).type`.\n",
      "  from ._conv import register_converters as _register_converters\n"
     ]
    }
   ],
   "source": [
    "import numpy as np\n",
    "import copy\n",
    "from scipy.ndimage import imread\n",
    "from scipy import misc\n",
    "import matplotlib.pyplot as plt\n",
    "import os\n",
    "import re\n",
    "import tensorflow as tf"
   ]
  },
  {
   "cell_type": "code",
   "execution_count": 2,
   "metadata": {},
   "outputs": [],
   "source": [
    "originPath = os.getcwd()\n",
    "pattern = re.compile(\".png$\")\n",
    "dirList=list(filter(lambda x: os.path.isdir(x) and not re.search(pattern, x) , os.listdir()))"
   ]
  },
  {
   "cell_type": "code",
   "execution_count": 3,
   "metadata": {},
   "outputs": [],
   "source": [
    "def imageGet(currentpath, dictFile, encode,endswith):\n",
    "    dirList= list(filter(lambda x: os.path.isdir(x) , os.listdir()))\n",
    "    if len(dirList) < 1:\n",
    "        listFile = list(filter(lambda x: x.endswith(endswith) , os.listdir()))\n",
    "        if len(listFile) >0:\n",
    "            path = os.getcwd().split(\"\\\\\")[-2:]\n",
    "            path='-'.join(path)\n",
    "            FileList = list(map(lambda x: os.path.join(os.getcwd(), x) ,listFile))\n",
    "            labels=[len(encode) for i in range(len(FileList))]\n",
    "            encode[path] = len(encode)\n",
    "            dictFile.append(tuple(zip(labels, FileList)))\n",
    "        return dictFile\n",
    "    for i in dirList:\n",
    "        changePath = os.path.join(currentpath, i)\n",
    "        os.chdir(changePath)\n",
    "        imageGet(changePath, dictFile,encode , endswith)"
   ]
  },
  {
   "cell_type": "code",
   "execution_count": 4,
   "metadata": {},
   "outputs": [
    {
     "data": {
      "text/plain": [
       "['.ipynb_checkpoints',\n",
       " 'images_background',\n",
       " 'images_background_small1',\n",
       " 'images_background_small2']"
      ]
     },
     "execution_count": 4,
     "metadata": {},
     "output_type": "execute_result"
    }
   ],
   "source": [
    "dirList"
   ]
  },
  {
   "cell_type": "code",
   "execution_count": 5,
   "metadata": {},
   "outputs": [],
   "source": [
    "FilePaths = []\n",
    "encoder = {}\n",
    "imageGet(os.getcwd(), FilePaths, encoder, \".png\")\n",
    "classNum = len(encoder)\n",
    "os.chdir(originPath)"
   ]
  },
  {
   "cell_type": "code",
   "execution_count": 6,
   "metadata": {},
   "outputs": [
    {
     "data": {
      "text/plain": [
       "(25120, 2)"
      ]
     },
     "execution_count": 6,
     "metadata": {},
     "output_type": "execute_result"
    }
   ],
   "source": [
    "FilePathsNp = np.array(FilePaths)\n",
    "FilePathsNp=np.reshape(FilePathsNp,(FilePathsNp.shape[0]*FilePathsNp.shape[1], FilePathsNp.shape[2]))\n",
    "np.random.shuffle(FilePathsNp)\n",
    "FilePathsNp.shape"
   ]
  },
  {
   "cell_type": "code",
   "execution_count": 7,
   "metadata": {},
   "outputs": [
    {
     "data": {
      "text/plain": [
       "964"
      ]
     },
     "execution_count": 7,
     "metadata": {},
     "output_type": "execute_result"
    }
   ],
   "source": [
    "classNum"
   ]
  },
  {
   "cell_type": "code",
   "execution_count": 8,
   "metadata": {},
   "outputs": [],
   "source": [
    "encoderedLists = FilePathsNp[:,0].astype(int)\n",
    "imagePaths = FilePathsNp[:,1]"
   ]
  },
  {
   "cell_type": "code",
   "execution_count": 9,
   "metadata": {},
   "outputs": [
    {
     "name": "stdout",
     "output_type": "stream",
     "text": [
      "(25120, 964)\n"
     ]
    }
   ],
   "source": [
    "encoderedLists\n",
    "depth = len(encoderedLists)\n",
    "encodered =tf.one_hot(encoderedLists, classNum)\n",
    "print(encodered.shape)"
   ]
  },
  {
   "cell_type": "code",
   "execution_count": 10,
   "metadata": {},
   "outputs": [
    {
     "name": "stderr",
     "output_type": "stream",
     "text": [
      "C:\\Users\\james\\Anaconda3\\lib\\site-packages\\ipykernel_launcher.py:1: DeprecationWarning: `imread` is deprecated!\n",
      "`imread` is deprecated in SciPy 1.0.0, and will be removed in 1.2.0.\n",
      "Use ``imageio.imread`` instead.\n",
      "  \"\"\"Entry point for launching an IPython kernel.\n"
     ]
    }
   ],
   "source": [
    "photos=[misc.imread(x,flatten=True) for x in imagePaths]"
   ]
  },
  {
   "cell_type": "code",
   "execution_count": 11,
   "metadata": {},
   "outputs": [],
   "source": [
    "dfphoto = np.array(photos)\n",
    "dfphoto = np.expand_dims(dfphoto,3)"
   ]
  },
  {
   "cell_type": "code",
   "execution_count": 12,
   "metadata": {},
   "outputs": [
    {
     "name": "stdout",
     "output_type": "stream",
     "text": [
      "(25120, 105, 105, 1, 1)\n"
     ]
    }
   ],
   "source": [
    "k=3\n",
    "channels=1\n",
    "dim_hidden=64\n",
    "stride = [1,2,2,1]\n",
    "dtype = tf.float32\n",
    "conv_initializer =  tf.contrib.layers.xavier_initializer_conv2d(dtype=dtype)\n",
    "fc_initializer =  tf.contrib.layers.xavier_initializer(dtype=dtype)\n",
    "data_tf = tf.convert_to_tensor(dfphoto, np.float32)\n",
    "data_tf =tf.expand_dims(data_tf,3)\n",
    "print(data_tf.shape)\n",
    "# data_tf = tf.reshape(data_tf, (-1, data_tf.shape[0],data_tf.shape[1], data_tf.shape[2]))\n",
    "# print(data_tf.shape)"
   ]
  },
  {
   "cell_type": "code",
   "execution_count": 13,
   "metadata": {},
   "outputs": [],
   "source": [
    "weights = {}\n",
    "weights['conv1'] = tf.get_variable('conv1', [k, k, channels, dim_hidden], initializer=conv_initializer, dtype=dtype)\n",
    "weights['b1'] = tf.Variable(tf.zeros([dim_hidden]))\n",
    "weights['conv2'] = tf.get_variable('conv2', [k, k, dim_hidden, dim_hidden], initializer=conv_initializer, dtype=dtype)\n",
    "weights['b2'] = tf.Variable(tf.zeros([dim_hidden]))\n",
    "# weights['conv3'] = tf.get_variable('conv3', [k, k, dim_hidden, dim_hidden], initializer=conv_initializer, dtype=dtype)\n",
    "# weights['b3'] = tf.Variable(tf.zeros([dim_hidden]))\n",
    "# weights['conv4'] = tf.get_variable('conv4', [k, k, dim_hidden, dim_hidden], initializer=conv_initializer, dtype=dtype)\n",
    "# weights['b4'] = tf.Variable(tf.zeros([dim_hidden]))"
   ]
  },
  {
   "cell_type": "code",
   "execution_count": 14,
   "metadata": {},
   "outputs": [],
   "source": [
    "def covnNet(input,weight, bais):\n",
    "    conv_output = tf.nn.conv2d(input, weight, stride, 'SAME') + bais\n",
    "    return tf.nn.relu(conv_output)"
   ]
  },
  {
   "cell_type": "code",
   "execution_count": 15,
   "metadata": {},
   "outputs": [
    {
     "name": "stdout",
     "output_type": "stream",
     "text": [
      "(964, 256)\n",
      "(964,)\n"
     ]
    }
   ],
   "source": [
    "ImageContextHolder = tf.placeholder(tf.float32, [None, data_tf.shape[1], data_tf.shape[2],data_tf.shape[3]])\n",
    "OneHotContextHolder = tf.placeholder(tf.float32, [None, classNum])\n",
    "\n",
    "hidden = covnNet(ImageContextHolder, weights['conv1'],weights['b1'] )\n",
    "hidden = covnNet(hidden, weights['conv2'],weights['b2'] )\n",
    "# hidden = covnNet(hidden, weights['conv3'],weights['b3'] )\n",
    "# hidden = covnNet(hidden, weights['conv4'],weights['b4'] )\n",
    "\n",
    "hidden = tf.contrib.layers.flatten(hidden)\n",
    "\n",
    "weights['w5'] = tf.Variable(tf.random_normal([tf.cast(hidden.shape[1], tf.int32) , classNum]),dtype=dtype, name='w5')\n",
    "weights['b5'] = tf.Variable(tf.zeros([classNum]), name='b5')\n",
    "\n",
    "weights['w6_1'] = tf.Variable(tf.random_normal([classNum,128]),dtype=dtype, name='w6_1')\n",
    "weights['w6_2'] = tf.Variable(tf.random_normal([classNum,128]),dtype=dtype, name=\"w6_2\")\n",
    "weights['b6'] = tf.Variable(tf.zeros([128*2]), name='b6')\n",
    "\n",
    "hidden = tf.matmul(weights['w5'],weights['w6_1'])\n",
    "hidden = tf.matmul(OneHotContextHolder,weights['w6_2'])\n",
    "hidden = tf.concat([weights['w6_1'],weights['w6_2']],axis=1)\n",
    "print(hidden.shape)\n",
    "hidden = tf.nn.relu(tf.add(hidden, weights['b6'] ))\n",
    "\n",
    "weights['w7'] = tf.Variable(tf.random_normal([128*2,128]),dtype=dtype, name=\"w6_2\")\n",
    "weights['b7'] = tf.Variable(tf.zeros([128]), name='b7')\n",
    "hidden = tf.add(tf.matmul(hidden, weights['w7']),weights['b7'])\n",
    "\n",
    "representation = tf.reduce_mean(hidden, axis=1)\n",
    "print(representation.shape)"
   ]
  },
  {
   "cell_type": "code",
   "execution_count": 16,
   "metadata": {},
   "outputs": [],
   "source": [
    "representation=tf.expand_dims(representation,1)"
   ]
  },
  {
   "cell_type": "code",
   "execution_count": 17,
   "metadata": {},
   "outputs": [],
   "source": [
    "ImageTargetHolder = tf.placeholder(tf.float32, [None, data_tf.shape[1], data_tf.shape[2],data_tf.shape[3]])\n",
    "OneHotTargetHolder = tf.placeholder(tf.float32, [None,classNum])\n",
    "\n",
    "weights['conv1_T'] = tf.get_variable('conv1_T', [k, k, channels, dim_hidden], initializer=conv_initializer, dtype=dtype)\n",
    "weights['b1_T'] = tf.Variable(tf.zeros([dim_hidden]))\n",
    "weights['conv2_T'] = tf.get_variable('conv2_T', [k, k, dim_hidden, dim_hidden], initializer=conv_initializer, dtype=dtype)\n",
    "weights['b2_T'] = tf.Variable(tf.zeros([dim_hidden]))\n",
    "hidden = covnNet(ImageTargetHolder, weights['conv1_T'],weights['b1_T'] )\n",
    "hidden = covnNet(hidden, weights['conv2_T'],weights['b2_T'] )\n"
   ]
  },
  {
   "cell_type": "code",
   "execution_count": 18,
   "metadata": {},
   "outputs": [],
   "source": [
    "hidden = tf.contrib.layers.flatten(hidden)\n",
    "weights['w3_T'] = tf.Variable(tf.random_normal([tf.cast(hidden.shape[1], tf.int32) , tf.cast(representation.shape[0],tf.int32)]),dtype=dtype, name='w3_T')\n",
    "weights['b3_T'] = tf.Variable(tf.zeros([tf.cast(representation.shape[0],tf.int32)]), name='b3_T')\n",
    "weights['w4_T'] = tf.Variable(tf.random_normal([tf.cast(representation.shape[0],tf.int32) ,128]),dtype=dtype, name='w4_T')\n",
    "hidden = tf.add(tf.matmul(hidden,weights['w3_T']), weights['b3_T'])\n",
    "hidden = tf.concat([weights['w4_T'],representation],axis=1)\n",
    "weights['b4_T'] = tf.Variable(tf.zeros([tf.cast(hidden.shape[1],tf.int32)]), name='b4_T')\n",
    "hidden = tf.add(hidden, weights['b4_T'])\n",
    "\n",
    "weights['w5_T'] = tf.Variable(tf.random_normal([tf.cast(hidden.shape[1],tf.int32) , classNum]),dtype=dtype, name='w5_T')\n",
    "weights['b5_T'] = tf.Variable(tf.zeros([classNum]), name='b5_T')\n",
    "\n",
    "hidden = tf.add(tf.matmul(hidden,weights['w5_T']), weights['b5_T'])\n",
    "hidden = tf.reduce_mean(hidden, axis=1)"
   ]
  },
  {
   "cell_type": "code",
   "execution_count": 19,
   "metadata": {},
   "outputs": [],
   "source": [
    "# hidden=tf.nn.sigmoid(hidden)"
   ]
  },
  {
   "cell_type": "code",
   "execution_count": 20,
   "metadata": {},
   "outputs": [],
   "source": [
    "hidden = tf.expand_dims(hidden,0)"
   ]
  },
  {
   "cell_type": "code",
   "execution_count": 21,
   "metadata": {},
   "outputs": [
    {
     "data": {
      "text/plain": [
       "<tf.Tensor 'ExpandDims_2:0' shape=(1, 964) dtype=float32>"
      ]
     },
     "execution_count": 21,
     "metadata": {},
     "output_type": "execute_result"
    }
   ],
   "source": [
    "hidden"
   ]
  },
  {
   "cell_type": "code",
   "execution_count": 22,
   "metadata": {},
   "outputs": [
    {
     "data": {
      "text/plain": [
       "<tf.Tensor 'Placeholder_3:0' shape=(?, 964) dtype=float32>"
      ]
     },
     "execution_count": 22,
     "metadata": {},
     "output_type": "execute_result"
    }
   ],
   "source": [
    "OneHotTargetHolder"
   ]
  },
  {
   "cell_type": "code",
   "execution_count": 23,
   "metadata": {},
   "outputs": [],
   "source": [
    "loss=tf.nn.sigmoid_cross_entropy_with_logits(logits=hidden, labels=OneHotTargetHolder) "
   ]
  },
  {
   "cell_type": "code",
   "execution_count": 24,
   "metadata": {},
   "outputs": [
    {
     "name": "stdout",
     "output_type": "stream",
     "text": [
      "Tensor(\"ArgMax:0\", shape=(1,), dtype=int64)\n"
     ]
    }
   ],
   "source": [
    "predict=tf.argmax(hidden, axis=1)\n",
    "print(predict)"
   ]
  },
  {
   "cell_type": "code",
   "execution_count": 25,
   "metadata": {},
   "outputs": [],
   "source": [
    "loss= tf.reduce_mean(loss)"
   ]
  },
  {
   "cell_type": "code",
   "execution_count": 26,
   "metadata": {},
   "outputs": [],
   "source": [
    "optimizer = tf.train.AdamOptimizer(1e-4)\n",
    "train_step = optimizer.minimize(loss)"
   ]
  },
  {
   "cell_type": "code",
   "execution_count": 27,
   "metadata": {},
   "outputs": [
    {
     "data": {
      "text/plain": [
       "tf.float32"
      ]
     },
     "execution_count": 27,
     "metadata": {},
     "output_type": "execute_result"
    }
   ],
   "source": [
    "encodered.dtype"
   ]
  },
  {
   "cell_type": "code",
   "execution_count": 28,
   "metadata": {},
   "outputs": [],
   "source": [
    "TRAINING_ITERATIONS= 10000\n",
    "# imagePaths\n",
    "# encoderedLists\n",
    "contextNum = int(depth * 0.5)\n",
    "contextPic = dfphoto[:contextNum,:,:]\n",
    "contextlabel = encodered[:contextNum]\n",
    "\n",
    "targetPic= dfphoto[contextNum:,:,:]\n",
    "targetlabel = encodered[contextNum:]"
   ]
  },
  {
   "cell_type": "code",
   "execution_count": 29,
   "metadata": {},
   "outputs": [
    {
     "data": {
      "text/plain": [
       "TensorShape([Dimension(12560), Dimension(964)])"
      ]
     },
     "execution_count": 29,
     "metadata": {},
     "output_type": "execute_result"
    }
   ],
   "source": [
    "targetlabel.shape"
   ]
  },
  {
   "cell_type": "code",
   "execution_count": 30,
   "metadata": {},
   "outputs": [
    {
     "data": {
      "text/plain": [
       "TensorShape([Dimension(None), Dimension(964)])"
      ]
     },
     "execution_count": 30,
     "metadata": {},
     "output_type": "execute_result"
    }
   ],
   "source": [
    "OneHotContextHolder.shape"
   ]
  },
  {
   "cell_type": "code",
   "execution_count": 31,
   "metadata": {},
   "outputs": [
    {
     "name": "stdout",
     "output_type": "stream",
     "text": [
      "0.7071268\n",
      "0.042439085\n",
      "0.010441296\n",
      "0.0073499084\n",
      "0.0067550945\n",
      "0.0065921103\n",
      "0.006507603\n",
      "0.0064562005\n",
      "0.006434632\n",
      "0.006428434\n",
      "0.0064270385\n",
      "()\n",
      "[array([752], dtype=int64)]\n"
     ]
    }
   ],
   "source": [
    "with tf.Session() as sess:\n",
    "    feed_dict = {ImageContextHolder: contextPic, OneHotContextHolder: contextlabel.eval(),  ImageTargetHolder: targetPic, OneHotTargetHolder: targetlabel.eval()}\n",
    "    sess.run(tf.global_variables_initializer())\n",
    "    for it in range(TRAINING_ITERATIONS):\n",
    "        _,loss_reduce =sess.run([train_step, loss], feed_dict)\n",
    "        if (it % 1000 == 0):\n",
    "            print(loss_reduce)\n",
    "    print(loss_reduce)\n",
    "    print(loss_reduce.shape)\n",
    "    feed_dict = {ImageContextHolder: contextPic, OneHotContextHolder: contextlabel.eval(),  ImageTargetHolder: targetPic, OneHotTargetHolder: targetlabel.eval()}\n",
    "    predictions=sess.run([predict], feed_dict)\n",
    "    print(predictions)"
   ]
  },
  {
   "cell_type": "code",
   "execution_count": 32,
   "metadata": {},
   "outputs": [
    {
     "name": "stdout",
     "output_type": "stream",
     "text": [
      "[array([[-2.95333236e-01,  8.23479220e-02, -2.44572997e-01,\n",
      "         6.73138648e-02,  8.57659876e-02, -1.61860302e-01,\n",
      "         1.23427831e-01, -7.97426477e-02, -1.61051244e-01,\n",
      "         1.54945999e-01,  3.59517246e-01, -6.72322333e-01,\n",
      "        -7.80989900e-02, -2.09968507e-01,  2.23389063e-02,\n",
      "        -3.07804734e-01,  1.03308745e-01, -1.26040787e-01,\n",
      "         3.82409841e-01, -7.62322471e-02, -6.57886744e-01,\n",
      "        -4.33038734e-02, -4.01795171e-02, -2.81498060e-02,\n",
      "        -3.51898104e-01,  2.78089374e-01,  3.02017659e-01,\n",
      "        -3.11641902e-01, -2.31983885e-02, -3.75099093e-01,\n",
      "        -8.78283903e-02, -3.17843556e-01, -1.59895778e-01,\n",
      "         1.03498353e-02,  5.55650055e-01,  1.32533826e-03,\n",
      "         1.32844076e-01, -1.38928778e-02, -8.32167193e-02,\n",
      "        -2.83110365e-02,  2.26198062e-01, -4.67404127e-01,\n",
      "         1.26928955e-01,  3.01153570e-01,  1.34887069e-01,\n",
      "         3.77546787e-01,  3.50055933e-01,  3.28230232e-01,\n",
      "        -4.99608405e-02,  1.04800321e-01, -2.81903595e-01,\n",
      "         2.07003310e-01,  2.85141438e-01,  4.39593703e-01,\n",
      "        -2.73028493e-01,  2.11483836e-01, -2.47130558e-01,\n",
      "         6.90508708e-02,  4.39256057e-02, -4.45263803e-01,\n",
      "         3.35886031e-01,  1.70859128e-01,  6.68546781e-02,\n",
      "        -7.76294852e-03,  7.14188144e-02,  1.82882711e-01,\n",
      "        -5.28377831e-01, -2.50984877e-01,  4.93801013e-02,\n",
      "         1.00528672e-02, -5.66674471e-01, -5.99739611e-01,\n",
      "        -1.63384914e-01, -2.51168758e-01,  1.87154897e-02,\n",
      "         6.67363465e-01, -6.51398122e-01,  4.46483642e-02,\n",
      "        -5.52717149e-01, -3.19375664e-01,  7.44558498e-02,\n",
      "         1.17624037e-01,  3.80591512e-01,  2.97454864e-01,\n",
      "        -2.58457512e-01, -3.46482128e-01, -1.84447318e-01,\n",
      "        -1.42752245e-01, -1.73484579e-01,  1.06479466e-01,\n",
      "         1.57992303e-01, -4.55137402e-01, -7.06777096e-01,\n",
      "         1.07695766e-01,  6.57816291e-01, -3.48693222e-01,\n",
      "        -4.96072471e-01, -6.96704537e-02, -3.13062817e-01,\n",
      "         3.59722793e-01,  5.32205224e-01, -1.96771234e-01,\n",
      "        -3.63404900e-01, -3.93866710e-02,  3.01329732e-01,\n",
      "         6.05236053e-01, -2.95927431e-02,  1.96671233e-01,\n",
      "        -5.14491163e-02, -9.36447904e-02,  7.20214903e-01,\n",
      "        -2.04219714e-01,  2.95757949e-01, -1.55601487e-01,\n",
      "         2.59870738e-01,  1.10794909e-01, -6.46036386e-01,\n",
      "         5.08090854e-01,  4.34372813e-01, -4.52221900e-01,\n",
      "        -4.14208710e-01,  7.11711720e-02, -3.99406403e-01,\n",
      "         6.23742938e-01,  5.03655970e-02,  1.72132567e-01,\n",
      "        -1.26536163e-02, -5.42232513e-01, -2.84462441e-02,\n",
      "        -1.65911257e-01,  5.13981164e-01,  3.47601175e-01,\n",
      "         1.82726070e-01,  9.16659832e-01,  3.44088860e-02,\n",
      "        -3.26390445e-01,  1.02457739e-02,  4.40605097e-02,\n",
      "        -3.21664959e-01,  2.67733186e-02,  3.04668844e-01,\n",
      "        -7.03025341e-01, -2.07649007e-01, -2.83030838e-01,\n",
      "         5.52361906e-01, -5.06636798e-01, -1.76799044e-01,\n",
      "        -2.41844524e-02, -1.77781448e-01, -2.74532080e-01,\n",
      "         2.06891581e-01, -3.99855673e-01,  3.39062721e-01,\n",
      "        -2.96273828e-01,  3.62197936e-01,  2.13949889e-01,\n",
      "        -2.11177483e-01,  4.54674624e-02, -6.39293611e-01,\n",
      "        -1.36431485e-01,  3.56147945e-01, -4.15639549e-01,\n",
      "         8.68669629e-01,  1.90859213e-01, -4.66489732e-01,\n",
      "         1.99335307e-01,  2.06413865e-01, -9.19735506e-02,\n",
      "         1.58564568e-01,  9.60325718e-01,  6.12676919e-01,\n",
      "         9.99958962e-02,  2.80317515e-01, -9.39518437e-02,\n",
      "        -4.88713771e-01, -7.27806747e-01,  6.66253492e-02,\n",
      "        -5.30577525e-02,  7.91837201e-02, -1.32970005e-01,\n",
      "        -2.47958079e-01, -5.70149422e-01,  2.51925945e-01,\n",
      "        -8.53386521e-02, -5.73291779e-01,  3.60415071e-01,\n",
      "        -3.45235229e-01, -1.87400058e-01,  2.98200339e-01,\n",
      "         4.10192877e-01,  5.94346702e-01,  3.39846104e-01,\n",
      "        -2.36751765e-01, -2.48206586e-01, -1.77917793e-01,\n",
      "         6.59411669e-01, -5.77127337e-01, -1.12941824e-01,\n",
      "        -7.33561873e-01,  1.44337326e-01, -3.67366999e-01,\n",
      "        -3.50402333e-02,  1.84914753e-01, -1.80900827e-01,\n",
      "         1.42951846e-01,  3.20387810e-01,  4.53612447e-01,\n",
      "        -6.73882104e-03, -2.71788031e-01,  6.13325417e-01,\n",
      "         2.44392931e-01, -5.53449512e-01,  6.71370387e-01,\n",
      "        -5.02550185e-01, -3.62956703e-01, -4.43576276e-01,\n",
      "        -5.14305942e-02,  4.10920084e-01, -4.75026369e-02,\n",
      "        -1.45990014e-01,  1.75630361e-01,  1.93659738e-01,\n",
      "         3.13092530e-01,  4.54807699e-01, -2.48631850e-01,\n",
      "        -3.53980333e-01,  3.04558454e-03, -9.95874703e-02,\n",
      "        -1.32947743e-01,  3.58084738e-01, -6.44829988e-01,\n",
      "        -4.90878075e-01,  5.49937904e-01, -5.17163694e-01,\n",
      "         2.61273146e-01, -2.78219998e-01,  1.26937509e-01,\n",
      "         3.89440618e-02, -7.63141870e-01, -4.26180631e-01,\n",
      "        -3.49015027e-01, -1.66559499e-02,  4.14109826e-02,\n",
      "        -5.87306857e-01, -1.92776486e-01, -2.27953956e-01,\n",
      "        -1.23852260e-01,  8.74656513e-02, -6.14887297e-01,\n",
      "        -3.91248524e-01,  1.89477444e-01,  3.85908931e-02,\n",
      "         9.23167348e-01, -4.57603782e-01, -3.23954374e-01,\n",
      "        -7.76698291e-02, -8.54528010e-01, -9.47199762e-02,\n",
      "         2.75163203e-01, -2.52521455e-01, -1.15389809e-01,\n",
      "        -4.85089123e-01,  3.32549550e-02,  1.15366258e-01,\n",
      "        -2.16369569e-01,  2.65920814e-02, -2.07646161e-01,\n",
      "        -9.26116705e-02,  4.01962399e-01,  8.55511576e-02,\n",
      "        -1.57433912e-01,  6.29067361e-01,  1.22862659e-01,\n",
      "         4.59230334e-01,  3.73825997e-01,  9.19379890e-02,\n",
      "         3.25678200e-01,  1.17030637e-02, -1.93300337e-01,\n",
      "        -4.28216130e-01,  6.41141236e-02, -1.97228685e-01,\n",
      "        -1.69000581e-01, -3.00392415e-02,  9.30622101e-01,\n",
      "        -1.14646502e-01,  5.27883708e-01,  3.76831479e-02,\n",
      "         1.27812564e-01, -1.87059224e-01,  2.29478255e-02,\n",
      "        -2.39487141e-01, -7.49496184e-03,  3.94281000e-01,\n",
      "         5.06595969e-01,  2.10393295e-02, -5.64211369e-01,\n",
      "         1.91124752e-01,  5.69930434e-01,  5.29520035e-01,\n",
      "        -6.90311864e-02,  1.69538483e-01, -5.91623068e-01,\n",
      "        -4.98348385e-01,  5.29663265e-01,  6.47129416e-01,\n",
      "        -9.34650898e-02, -5.05673289e-01, -3.21162492e-01,\n",
      "        -4.84679729e-01,  5.26608601e-02,  3.24708432e-01,\n",
      "         4.19809334e-02,  4.91948090e-02,  2.50957847e-01,\n",
      "        -2.34664068e-01,  4.51840997e-01,  1.06894277e-01,\n",
      "         6.11058712e-01,  9.68180299e-02,  1.89887717e-01,\n",
      "         5.15536904e-01,  5.18369615e-01,  1.07739843e-01,\n",
      "        -5.14933169e-01, -2.03907117e-02, -1.65503070e-01,\n",
      "         2.94241369e-01,  1.65012166e-01, -1.35987625e-01,\n",
      "        -3.80799443e-01,  7.77306199e-01,  1.62933152e-02,\n",
      "         3.96479398e-01, -7.02251047e-02,  5.57350695e-01,\n",
      "         1.55807987e-01, -3.17117095e-01,  2.75878906e-01,\n",
      "         2.23949328e-01, -3.56476575e-01,  9.53004360e-02,\n",
      "         1.13727041e-01, -2.26504534e-01, -8.39134306e-02,\n",
      "        -4.66923028e-01, -4.42281902e-01,  5.38504422e-01,\n",
      "        -4.50778492e-02,  3.59138586e-02, -4.41200614e-01,\n",
      "        -4.68516611e-02, -6.43334091e-01, -1.16783179e-01,\n",
      "         2.47693345e-01,  2.87899952e-02,  6.63880646e-01,\n",
      "        -9.54051390e-02,  4.07467663e-01,  4.04312879e-01,\n",
      "         1.24689788e-01, -1.96489781e-01, -8.25171173e-02,\n",
      "         6.93279743e-01, -2.65158951e-01,  3.84846210e-01,\n",
      "        -2.73886234e-01, -5.67426234e-02, -1.00347213e-01,\n",
      "         7.21419230e-02,  3.88920456e-01, -5.74137807e-01,\n",
      "        -8.35772395e-01,  7.88454294e-01,  3.71841490e-01,\n",
      "         2.06934690e-01, -2.17112228e-01, -2.07321197e-02,\n",
      "        -4.46786493e-01, -5.06895483e-01, -7.26341605e-02,\n",
      "         5.73291928e-02,  2.56028175e-01, -3.04274894e-02,\n",
      "         6.72220230e-01,  5.98597109e-01, -6.72221720e-01,\n",
      "         9.40674484e-01, -1.73060060e-01,  6.64598405e-01,\n",
      "        -6.60015285e-01, -4.77318913e-01, -3.41283470e-01,\n",
      "        -6.28550828e-01,  4.09998931e-02,  2.26799160e-01,\n",
      "         2.42204875e-01,  1.99699819e-01,  3.47216636e-01,\n",
      "        -5.83874099e-02, -1.41553611e-01,  1.05485424e-01,\n",
      "        -9.48047116e-02,  2.14045480e-01,  8.02375257e-01,\n",
      "         6.04049742e-01,  4.51058224e-02,  2.19046697e-01,\n",
      "        -1.02915451e-01, -9.54769999e-02,  6.03441715e-01,\n",
      "        -4.44232196e-01, -6.72532916e-01,  1.56809926e-01,\n",
      "        -1.63341999e-01, -2.29762167e-01, -3.08431774e-01,\n",
      "        -7.77673483e-01, -2.45515198e-01, -5.00223637e-02,\n",
      "        -4.88336593e-01, -3.52064967e-01,  5.19296408e-01,\n",
      "         1.68582648e-01, -1.87723622e-01, -3.42400402e-01,\n",
      "         3.11899543e-01, -1.53779909e-01, -3.77099305e-01,\n",
      "         4.66289669e-01,  2.13872492e-01, -2.93788493e-01,\n",
      "        -3.95280689e-01, -1.33101180e-01, -4.53105308e-02,\n",
      "         3.81023556e-01, -2.54019201e-01,  6.79846630e-02,\n",
      "         4.97605592e-01,  1.40685737e-01,  1.52092606e-01,\n",
      "        -7.71329522e-01, -3.58302861e-01,  8.62467438e-02,\n",
      "         8.14769492e-02,  2.93168426e-01, -4.08490956e-01,\n",
      "        -7.75103748e-04,  4.19210382e-02,  3.43607813e-01,\n",
      "         1.27544254e-01,  2.80163080e-01,  3.23591113e-01,\n",
      "        -7.29012907e-01,  3.02666631e-02, -1.23204052e-01,\n",
      "         3.56040955e-01, -1.96180448e-01,  9.45448801e-02,\n",
      "         3.66896361e-01,  2.20520392e-01, -1.20177127e-01,\n",
      "         4.01727110e-02, -3.90488565e-01,  1.48156285e-01,\n",
      "         1.51774772e-02,  5.55445015e-01,  1.62902623e-01,\n",
      "         5.31981647e-01, -1.69158772e-01, -3.23972166e-01,\n",
      "         3.21552843e-01, -1.97598889e-01, -4.47570741e-01,\n",
      "        -3.19234550e-01, -3.38298231e-01, -5.42894542e-01,\n",
      "         2.33256474e-01,  3.77368003e-01, -2.46346742e-02,\n",
      "        -4.67814535e-01,  2.51747042e-01,  1.18479356e-01,\n",
      "        -3.28163296e-01,  2.02942237e-01, -4.68954623e-01,\n",
      "        -4.77045774e-01, -3.21109563e-01,  6.24461234e-01,\n",
      "         4.77831692e-01,  3.43931496e-01, -7.38095790e-02,\n",
      "        -3.64796042e-01,  6.28753066e-01, -3.72351676e-01,\n",
      "         7.56008625e-02, -2.64979511e-01,  6.49523139e-01,\n",
      "         1.82783678e-01, -9.27825496e-02, -2.98342824e-01,\n",
      "        -3.26259702e-01, -7.38906860e-03, -2.14336604e-01,\n",
      "        -1.41762257e-01, -2.30185851e-01, -2.37341195e-01,\n",
      "        -9.21384543e-02,  6.09164834e-01, -8.15485537e-01,\n",
      "        -4.43428129e-01, -1.80217803e-01, -9.31625590e-02,\n",
      "        -1.79686427e-01,  1.22378461e-01,  1.67191401e-01,\n",
      "         2.45142565e-03,  1.98720247e-02,  5.78913569e-01,\n",
      "        -2.78748631e-01,  3.52852523e-01,  3.10734749e-01,\n",
      "        -1.02404840e-02, -8.11600089e-02, -1.14242174e-01,\n",
      "         4.69652228e-02,  1.50348172e-01,  3.81208062e-02,\n",
      "        -2.87943810e-01, -1.18345492e-01, -3.51680070e-01,\n",
      "         1.63190737e-01, -5.46628162e-02, -3.17949653e-02,\n",
      "         3.87823761e-01, -1.23863928e-01,  5.37443638e-01,\n",
      "        -7.24468678e-02, -2.52855420e-01,  7.68864974e-02,\n",
      "         7.38823265e-02,  7.11936057e-01,  2.63905507e-02,\n",
      "         1.49475172e-01,  3.43252093e-01, -1.56521842e-01,\n",
      "         6.87068142e-03,  6.68401197e-02,  3.26032043e-02,\n",
      "        -4.98106480e-01, -2.87878007e-01,  4.48843002e-01,\n",
      "        -2.68715590e-01, -3.53323877e-01, -5.75051904e-02,\n",
      "         4.06432718e-01,  1.14112481e-01,  1.57456040e-01,\n",
      "         2.69658774e-01,  3.28963727e-01, -6.46343052e-01,\n",
      "        -2.67259508e-01,  9.18631032e-02,  2.24372923e-01,\n",
      "        -7.15607584e-01, -2.82405674e-01,  1.94749534e-01,\n",
      "         1.70200184e-01, -2.25280881e-01, -1.28345415e-01,\n",
      "        -2.67936736e-02,  1.33096501e-01,  3.26774091e-01,\n",
      "         1.44885615e-01, -7.15686679e-01,  2.62138605e-01,\n",
      "        -3.14568609e-01,  6.60247564e-01,  3.46943080e-01,\n",
      "        -4.32031780e-01,  4.94739003e-02,  5.58549106e-01,\n",
      "         6.48462117e-01, -2.89191991e-01,  9.45393890e-02,\n",
      "        -5.75007126e-02,  5.18996688e-03,  6.45769358e-01,\n",
      "        -9.44105387e-02, -7.12099314e-01, -2.76155584e-03,\n",
      "        -2.29364797e-01, -5.43630779e-01, -1.74824134e-01,\n",
      "        -4.86305833e-01, -5.34522057e-01, -1.65597692e-01,\n",
      "         3.79069656e-01,  4.25749302e-01, -6.04361176e-01,\n",
      "        -4.05960679e-01, -3.36679876e-01, -8.41367722e-01,\n",
      "         1.03733331e-01,  1.37391523e-01, -4.18798894e-01,\n",
      "        -5.99764228e-01,  9.66202989e-02, -1.09447695e-01,\n",
      "         9.14042592e-02,  4.44413014e-02,  2.29108468e-01,\n",
      "        -2.58871526e-01, -2.27836281e-01, -1.31667465e-01,\n",
      "         2.24112682e-02,  6.02510393e-01,  3.04069072e-01,\n",
      "         4.74189103e-01,  3.82244848e-02,  1.13950916e-01,\n",
      "         3.87059867e-01, -1.22029155e-01,  5.10134935e-01,\n",
      "         5.86365104e-01, -3.76321048e-01, -7.28231370e-01,\n",
      "        -1.54477030e-01,  3.79324347e-01,  5.45359015e-01,\n",
      "        -3.76127303e-01, -1.02407418e-01, -4.01370972e-01,\n",
      "        -8.55396390e-02,  6.36978075e-02,  2.04232901e-01,\n",
      "         2.53278673e-01, -3.80057096e-01,  7.28952110e-01,\n",
      "        -1.10735722e-01, -3.94319832e-01,  5.99969387e-01,\n",
      "         1.90067723e-01,  1.75412893e-01,  1.57795057e-01,\n",
      "        -2.01816484e-01, -4.61901259e-03,  4.98773575e-01,\n",
      "         1.42696336e-01, -3.80149692e-01, -3.75174046e-01,\n",
      "        -5.59111238e-01, -1.24260694e-01,  6.75382853e-01,\n",
      "         3.19203079e-01, -2.88095176e-01, -2.67321825e-01,\n",
      "        -4.95711178e-01,  9.37734768e-02, -1.57016426e-01,\n",
      "        -4.58869606e-01, -4.45150316e-01,  2.83534318e-01,\n",
      "         1.76594555e-01, -1.16940767e-01,  2.02293232e-01,\n",
      "        -1.10436328e-01,  7.72570372e-01, -4.05251086e-01,\n",
      "        -2.98414558e-01,  1.88917294e-01, -4.83109266e-01,\n",
      "         1.50832653e-01, -2.46518403e-01,  2.28838816e-01,\n",
      "         3.34154069e-01, -1.12945765e-01, -3.57615650e-01,\n",
      "        -1.08833469e-01,  2.55231857e-01,  5.92996255e-02,\n",
      "         1.41925797e-01, -2.28893869e-02, -8.93791243e-02,\n",
      "         1.09127574e-01,  4.64303672e-01, -6.84105694e-01,\n",
      "         2.88959205e-01,  3.32041085e-01,  4.47289050e-01,\n",
      "        -5.48145235e-01, -1.87429842e-02, -6.68051764e-02,\n",
      "        -2.01768443e-01, -1.66737005e-01,  5.09441376e-01,\n",
      "         4.32220846e-01, -3.02820921e-01, -3.63431424e-02,\n",
      "        -1.16709299e-01, -1.67762935e-01, -2.49281958e-01,\n",
      "         4.53994513e-01, -5.82583100e-02,  8.90880525e-02,\n",
      "         2.76487116e-02,  3.12227815e-01, -1.17511466e-01,\n",
      "        -4.64744568e-01, -1.35790154e-01, -4.95838732e-01,\n",
      "        -7.96900541e-02,  3.21552753e-01,  2.58470755e-02,\n",
      "         7.65760615e-02,  3.15152168e-01,  5.55708334e-02,\n",
      "         3.02500635e-01, -1.58453092e-01,  2.90378213e-01,\n",
      "         5.29049039e-01,  2.89925545e-01, -1.11622281e-01,\n",
      "        -3.33889395e-01, -1.02669708e-01,  9.23281163e-02,\n",
      "        -6.67517260e-02,  2.33262047e-01, -5.31753838e-01,\n",
      "         8.14129412e-01,  2.32962474e-01, -2.25312769e-01,\n",
      "         3.95809188e-02, -6.73713267e-01, -3.01159889e-01,\n",
      "         6.33891225e-02,  4.02900636e-01,  9.69301641e-01,\n",
      "         2.72673462e-02,  2.06918731e-01,  2.91193694e-01,\n",
      "         8.22190344e-02,  9.21458285e-03,  1.85597777e-01,\n",
      "         3.35966557e-01, -1.83291093e-01, -5.54026544e-01,\n",
      "         3.21585745e-01,  1.82398751e-01,  1.54082954e-01,\n",
      "        -8.96670595e-02, -1.84272766e-01,  6.47824347e-01,\n",
      "        -7.90183172e-02,  9.28595960e-02, -1.59392938e-01,\n",
      "        -1.13601118e-01, -5.38209081e-01, -1.58958137e-01,\n",
      "         2.37907514e-01, -5.59082627e-01, -1.41438782e-01,\n",
      "        -4.65685129e-01,  2.51533598e-01,  1.03402352e-02,\n",
      "         2.90672004e-01, -1.72988456e-02, -1.45786330e-02,\n",
      "        -3.83522540e-01,  3.13006312e-01,  9.97155160e-02,\n",
      "        -1.61829114e-01, -9.91121829e-02,  2.50169098e-01,\n",
      "        -2.81058908e-01,  1.45616546e-01, -5.94384074e-01,\n",
      "        -2.68514931e-01,  1.78005800e-01,  4.90789920e-01,\n",
      "         1.47779156e-02,  1.10730119e-01, -3.37237835e-01,\n",
      "        -1.55511886e-01,  1.12360619e-01, -3.83087099e-01,\n",
      "        -2.90349454e-01,  1.78935647e-01,  1.05529457e-01,\n",
      "        -4.71156202e-02,  2.95328557e-01,  4.94008154e-01,\n",
      "         6.42172322e-02,  2.19759583e-01, -2.89288402e-01,\n",
      "        -5.29178083e-01, -2.74263680e-01,  4.39275324e-01,\n",
      "        -6.53466955e-02,  3.28121513e-01,  5.68220131e-02,\n",
      "         1.14529915e-01, -9.07378420e-02, -7.11526155e-01,\n",
      "         1.18493121e-02,  9.98770371e-02, -2.32771054e-01,\n",
      "         4.31989104e-01,  3.08607548e-01, -6.77220374e-02,\n",
      "        -3.77342522e-01,  1.20080352e-01, -1.59638569e-01,\n",
      "        -3.07668358e-01, -9.75079656e-01,  2.49805883e-01,\n",
      "        -1.40744122e-03,  4.27614629e-01, -1.57831535e-01,\n",
      "         6.98444903e-01,  8.91884416e-02,  1.16112038e-01,\n",
      "         7.27886930e-02, -1.77105628e-02, -2.28145599e-01,\n",
      "        -1.83957919e-01, -3.44225883e-01,  2.94995636e-01,\n",
      "         1.50027171e-01, -1.54594734e-01,  2.43424281e-01,\n",
      "         2.75397629e-01,  1.66582435e-01, -5.40705383e-01,\n",
      "        -8.72713685e-01, -3.35224986e-01, -1.91240549e-01,\n",
      "         2.83740282e-01, -2.95010321e-02,  4.81317133e-01,\n",
      "        -8.38765740e-01,  5.02499819e-01,  1.06122896e-01,\n",
      "        -5.51455319e-01,  2.93193787e-01, -2.37952426e-01,\n",
      "        -2.97660083e-01,  2.92441845e-01,  4.17081267e-02,\n",
      "        -8.27190101e-01, -3.38807181e-02,  6.47201300e-01,\n",
      "        -5.70283309e-02, -5.02872348e-01, -6.61947072e-01,\n",
      "        -5.32067657e-01,  1.69107422e-01,  1.25339003e-02,\n",
      "        -1.06910683e-01, -3.59909534e-01,  4.84284498e-02,\n",
      "         2.31784120e-01, -8.65290239e-02,  7.06370473e-02,\n",
      "         2.25978613e-01,  9.00487006e-01, -2.59181321e-01,\n",
      "        -1.80772334e-01,  8.20021406e-02,  3.37177478e-02,\n",
      "         2.23227143e-02, -1.42487779e-01,  3.80895585e-01,\n",
      "         2.35689521e-01,  1.16772309e-01, -6.03479266e-01,\n",
      "        -7.75086880e-01, -1.56386290e-02, -5.60342014e-01,\n",
      "        -6.46922663e-02,  3.46664667e-01, -3.59692089e-02,\n",
      "        -4.13303345e-01, -5.77647150e-01, -5.66515028e-01,\n",
      "        -5.56453690e-02, -2.14672193e-01, -3.97839695e-01,\n",
      "         4.28526960e-02, -6.22422218e-01,  7.23988593e-01,\n",
      "         2.26797029e-01,  1.12596929e-01, -5.24947308e-02,\n",
      "         6.63942277e-01, -6.18573092e-02, -3.90710384e-02,\n",
      "        -4.53135341e-01,  7.89790004e-02,  4.70050603e-01,\n",
      "         2.73613721e-01, -4.48867679e-02,  1.99579328e-01,\n",
      "        -6.33632064e-01, -7.37467855e-02,  6.03478663e-02,\n",
      "         5.10977745e-01,  1.69898480e-01, -2.45154098e-01,\n",
      "        -4.70602542e-01,  2.37150773e-01, -4.51001316e-01,\n",
      "        -3.02199304e-01,  3.92517030e-01,  2.55878121e-01,\n",
      "         3.24953943e-01,  8.83594379e-02, -3.62240255e-01,\n",
      "         9.67579801e-03, -1.86474118e-02, -4.74426329e-01,\n",
      "         1.56374335e-01, -2.05975428e-01, -1.60308614e-01,\n",
      "         5.43893516e-01,  1.42241895e-01,  5.17918587e-01,\n",
      "         4.63827215e-02, -4.75224733e-01, -3.27627778e-01,\n",
      "         2.35291764e-01, -9.16098595e-01,  4.54163998e-01,\n",
      "         4.13994044e-01, -3.53998840e-01,  4.25418526e-01,\n",
      "         2.56897897e-01,  2.27930382e-01,  1.83647260e-01,\n",
      "        -9.05870870e-02,  3.36866200e-01, -7.37040490e-02,\n",
      "         1.27160801e-02,  3.30410570e-01, -5.25819123e-01,\n",
      "        -1.05249889e-01, -2.46032625e-02,  4.68875498e-01,\n",
      "         6.98593378e-01,  8.34328756e-02,  8.17695707e-02,\n",
      "        -1.29222348e-01, -2.39609987e-01,  5.11028543e-02,\n",
      "        -1.78559259e-01,  1.76468849e-01, -8.38243544e-01,\n",
      "         2.13706747e-01, -3.72840375e-01, -6.58063352e-01,\n",
      "        -1.04371555e-01,  1.14806466e-01,  4.20345724e-01,\n",
      "         8.20213735e-01]], dtype=float32)]\n"
     ]
    },
    {
     "name": "stdout",
     "output_type": "stream",
     "text": [
      "[0. 0. 0. 0. 0. 0. 0. 0. 0. 0. 0. 0. 0. 0. 0. 0. 0. 0. 0. 0. 0. 0. 0. 0.\n",
      " 0. 0. 0. 0. 0. 0. 0. 0. 0. 0. 0. 0. 0. 0. 0. 0. 0. 0. 0. 0. 0. 0. 0. 0.\n",
      " 0. 0. 0. 0. 0. 0. 0. 0. 0. 0. 0. 0. 0. 0. 0. 0. 0. 0. 0. 0. 0. 0. 0. 0.\n",
      " 0. 0. 0. 0. 0. 0. 0. 0. 0. 0. 0. 0. 0. 0. 0. 0. 0. 0. 0. 0. 0. 0. 0. 0.\n",
      " 0. 0. 0. 0. 0. 0. 0. 0. 0. 0. 0. 0. 0. 0. 0. 0. 0. 0. 0. 0. 0. 0. 0. 0.\n",
      " 0. 0. 0. 0. 0. 0. 0. 0. 0. 0. 0. 0. 0. 0. 0. 0. 0. 0. 0. 0. 0. 0. 0. 0.\n",
      " 0. 0. 0. 0. 0. 0. 0. 0. 0. 0. 0. 0. 0. 0. 0. 0. 0. 0. 0. 0. 0. 0. 0. 0.\n",
      " 0. 0. 0. 0. 0. 0. 0. 0. 0. 0. 0. 0. 0. 0. 0. 0. 0. 0. 0. 0. 0. 0. 0. 0.\n",
      " 0. 0. 0. 0. 0. 0. 0. 0. 0. 0. 0. 0. 0. 0. 0. 0. 0. 0. 0. 0. 0. 0. 0. 0.\n",
      " 0. 0. 0. 0. 0. 0. 0. 0. 0. 0. 0. 0. 0. 0. 0. 0. 0. 0. 0. 0. 0. 0. 0. 0.\n",
      " 0. 0. 0. 0. 0. 0. 0. 0. 0. 0. 0. 0. 0. 0. 0. 0. 0. 1. 0. 0. 0. 0. 0. 0.\n",
      " 0. 0. 0. 0. 0. 0. 0. 0. 0. 0. 0. 0. 0. 0. 0. 0. 0. 0. 0. 0. 0. 0. 0. 0.\n",
      " 0. 0. 0. 0. 0. 0. 0. 0. 0. 0. 0. 0. 0. 0. 0. 0. 0. 0. 0. 0. 0. 0. 0. 0.\n",
      " 0. 0. 0. 0. 0. 0. 0. 0. 0. 0. 0. 0. 0. 0. 0. 0. 0. 0. 0. 0. 0. 0. 0. 0.\n",
      " 0. 0. 0. 0. 0. 0. 0. 0. 0. 0. 0. 0. 0. 0. 0. 0. 0. 0. 0. 0. 0. 0. 0. 0.\n",
      " 0. 0. 0. 0. 0. 0. 0. 0. 0. 0. 0. 0. 0. 0. 0. 0. 0. 0. 0. 0. 0. 0. 0. 0.\n",
      " 0. 0. 0. 0. 0. 0. 0. 0. 0. 0. 0. 0. 0. 0. 0. 0. 0. 0. 0. 0. 0. 0. 0. 0.\n",
      " 0. 0. 0. 0. 0. 0. 0. 0. 0. 0. 0. 0. 0. 0. 0. 0. 0. 0. 0. 0. 0. 0. 0. 0.\n",
      " 0. 0. 0. 0. 0. 0. 0. 0. 0. 0. 0. 0. 0. 0. 0. 0. 0. 0. 0. 0. 0. 0. 0. 0.\n",
      " 0. 0. 0. 0. 0. 0. 0. 0. 0. 0. 0. 0. 0. 0. 0. 0. 0. 0. 0. 0. 0. 0. 0. 0.\n",
      " 0. 0. 0. 0. 0. 0. 0. 0. 0. 0. 0. 0. 0. 0. 0. 0. 0. 0. 0. 0. 0. 0. 0. 0.\n",
      " 0. 0. 0. 0. 0. 0. 0. 0. 0. 0. 0. 0. 0. 0. 0. 0. 0. 0. 0. 0. 0. 0. 0. 0.\n",
      " 0. 0. 0. 0. 0. 0. 0. 0. 0. 0. 0. 0. 0. 0. 0. 0. 0. 0. 0. 0. 0. 0. 0. 0.\n",
      " 0. 0. 0. 0. 0. 0. 0. 0. 0. 0. 0. 0. 0. 0. 0. 0. 0. 0. 0. 0. 0. 0. 0. 0.\n",
      " 0. 0. 0. 0. 0. 0. 0. 0. 0. 0. 0. 0. 0. 0. 0. 0. 0. 0. 0. 0. 0. 0. 0. 0.\n",
      " 0. 0. 0. 0. 0. 0. 0. 0. 0. 0. 0. 0. 0. 0. 0. 0. 0. 0. 0. 0. 0. 0. 0. 0.\n",
      " 0. 0. 0. 0. 0. 0. 0. 0. 0. 0. 0. 0. 0. 0. 0. 0. 0. 0. 0. 0. 0. 0. 0. 0.\n",
      " 0. 0. 0. 0. 0. 0. 0. 0. 0. 0. 0. 0. 0. 0. 0. 0. 0. 0. 0. 0. 0. 0. 0. 0.\n",
      " 0. 0. 0. 0. 0. 0. 0. 0. 0. 0. 0. 0. 0. 0. 0. 0. 0. 0. 0. 0. 0. 0. 0. 0.\n",
      " 0. 0. 0. 0. 0. 0. 0. 0. 0. 0. 0. 0. 0. 0. 0. 0. 0. 0. 0. 0. 0. 0. 0. 0.\n",
      " 0. 0. 0. 0. 0. 0. 0. 0. 0. 0. 0. 0. 0. 0. 0. 0. 0. 0. 0. 0. 0. 0. 0. 0.\n",
      " 0. 0. 0. 0. 0. 0. 0. 0. 0. 0. 0. 0. 0. 0. 0. 0. 0. 0. 0. 0. 0. 0. 0. 0.\n",
      " 0. 0. 0. 0. 0. 0. 0. 0. 0. 0. 0. 0. 0. 0. 0. 0. 0. 0. 0. 0. 0. 0. 0. 0.\n",
      " 0. 0. 0. 0. 0. 0. 0. 0. 0. 0. 0. 0. 0. 0. 0. 0. 0. 0. 0. 0. 0. 0. 0. 0.\n",
      " 0. 0. 0. 0. 0. 0. 0. 0. 0. 0. 0. 0. 0. 0. 0. 0. 0. 0. 0. 0. 0. 0. 0. 0.\n",
      " 0. 0. 0. 0. 0. 0. 0. 0. 0. 0. 0. 0. 0. 0. 0. 0. 0. 0. 0. 0. 0. 0. 0. 0.\n",
      " 0. 0. 0. 0. 0. 0. 0. 0. 0. 0. 0. 0. 0. 0. 0. 0. 0. 0. 0. 0. 0. 0. 0. 0.\n",
      " 0. 0. 0. 0. 0. 0. 0. 0. 0. 0. 0. 0. 0. 0. 0. 0. 0. 0. 0. 0. 0. 0. 0. 0.\n",
      " 0. 0. 0. 0. 0. 0. 0. 0. 0. 0. 0. 0. 0. 0. 0. 0. 0. 0. 0. 0. 0. 0. 0. 0.\n",
      " 0. 0. 0. 0. 0. 0. 0. 0. 0. 0. 0. 0. 0. 0. 0. 0. 0. 0. 0. 0. 0. 0. 0. 0.\n",
      " 0. 0. 0. 0.]\n",
      "257\n"
     ]
    }
   ],
   "source": [
    "contextPic = dfphoto[:contextNum,:,:]\n",
    "contextlabel = encodered[:contextNum]\n",
    "targetPic= dfphoto[0,:,:]\n",
    "targetlabel = encodered[0]\n",
    "targetPic=tf.expand_dims(targetPic,0)\n",
    "targetlabel=tf.expand_dims(targetlabel,0)\n",
    "\n",
    "with tf.Session() as sess:\n",
    "    sess.run(tf.global_variables_initializer())\n",
    "    feed_dict = {ImageContextHolder: contextPic, OneHotContextHolder: contextlabel.eval(),  ImageTargetHolder: targetPic.eval(), OneHotTargetHolder: targetlabel.eval()}\n",
    "    predictions=sess.run([hidden], feed_dict)\n",
    "    print(predictions)\n",
    "    print(encodered[0].eval())\n",
    "    print(encoderedLists[0])"
   ]
  },
  {
   "cell_type": "code",
   "execution_count": 34,
   "metadata": {},
   "outputs": [
    {
     "data": {
      "text/plain": [
       "-0.094719976"
      ]
     },
     "execution_count": 34,
     "metadata": {},
     "output_type": "execute_result"
    }
   ],
   "source": [
    "predictions[0][0][257]"
   ]
  },
  {
   "cell_type": "code",
   "execution_count": null,
   "metadata": {},
   "outputs": [],
   "source": []
  }
 ],
 "metadata": {
  "kernelspec": {
   "display_name": "Python 3",
   "language": "python",
   "name": "python3"
  },
  "language_info": {
   "codemirror_mode": {
    "name": "ipython",
    "version": 3
   },
   "file_extension": ".py",
   "mimetype": "text/x-python",
   "name": "python",
   "nbconvert_exporter": "python",
   "pygments_lexer": "ipython3",
   "version": "3.6.5"
  }
 },
 "nbformat": 4,
 "nbformat_minor": 2
}
