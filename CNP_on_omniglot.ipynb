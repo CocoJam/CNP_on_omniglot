{
 "cells": [
  {
   "cell_type": "code",
   "execution_count": 1,
   "metadata": {},
   "outputs": [
    {
     "name": "stderr",
     "output_type": "stream",
     "text": [
      "C:\\Users\\james\\Anaconda3\\lib\\site-packages\\h5py\\__init__.py:36: FutureWarning: Conversion of the second argument of issubdtype from `float` to `np.floating` is deprecated. In future, it will be treated as `np.float64 == np.dtype(float).type`.\n",
      "  from ._conv import register_converters as _register_converters\n"
     ]
    }
   ],
   "source": [
    "import numpy as np\n",
    "import copy\n",
    "from scipy.ndimage import imread\n",
    "from scipy import misc\n",
    "from scipy.ndimage import rotate\n",
    "import matplotlib.pyplot as plt\n",
    "import os\n",
    "import re\n",
    "import tensorflow as tf"
   ]
  },
  {
   "cell_type": "code",
   "execution_count": 2,
   "metadata": {},
   "outputs": [],
   "source": [
    "originPath = os.getcwd()\n",
    "pattern = re.compile(\".png$\")\n",
    "dirList=list(filter(lambda x: os.path.isdir(x) and not re.search(pattern, x) , os.listdir()))"
   ]
  },
  {
   "cell_type": "code",
   "execution_count": 3,
   "metadata": {},
   "outputs": [
    {
     "data": {
      "text/plain": [
       "['.git',\n",
       " '.ipynb_checkpoints',\n",
       " 'images_background',\n",
       " 'images_background_small1',\n",
       " 'images_background_small2']"
      ]
     },
     "execution_count": 3,
     "metadata": {},
     "output_type": "execute_result"
    }
   ],
   "source": [
    "dirList"
   ]
  },
  {
   "cell_type": "code",
   "execution_count": 4,
   "metadata": {},
   "outputs": [],
   "source": [
    "def imageGet(currentpath, dictFile, encode ,endswith, exclude=[]):\n",
    "    dirList= list(filter(lambda x: os.path.isdir(x) , os.listdir()))\n",
    "    if len(dirList) < 1:\n",
    "        listFile = list(filter(lambda x: x.endswith(endswith) , os.listdir()))\n",
    "        if len(listFile) >0:\n",
    "            path = os.getcwd().split(\"\\\\\")[-2:]\n",
    "            path='-'.join(path)\n",
    "            FileList = list(map(lambda x: os.path.join(os.getcwd(), x) ,listFile))\n",
    "            labels=[len(encode) for i in range(len(FileList))]\n",
    "            encode[path] = len(encode)\n",
    "            dictFile.append(tuple(zip(labels, FileList)))\n",
    "        return dictFile\n",
    "    for i in dirList:\n",
    "        if i in exclude:\n",
    "            continue\n",
    "        changePath = os.path.join(currentpath, i)\n",
    "        os.chdir(changePath)\n",
    "        imageGet(changePath, dictFile,encode , endswith)"
   ]
  },
  {
   "cell_type": "code",
   "execution_count": 5,
   "metadata": {},
   "outputs": [
    {
     "data": {
      "text/plain": [
       "['.git',\n",
       " '.ipynb_checkpoints',\n",
       " 'images_background',\n",
       " 'images_background_small1',\n",
       " 'images_background_small2']"
      ]
     },
     "execution_count": 5,
     "metadata": {},
     "output_type": "execute_result"
    }
   ],
   "source": [
    "dirList"
   ]
  },
  {
   "cell_type": "code",
   "execution_count": 6,
   "metadata": {},
   "outputs": [],
   "source": [
    "FilePaths = []\n",
    "encoder = {}\n",
    "imageGet(os.getcwd(), FilePaths, encoder, \".png\",['.ipynb_checkpoints', 'images_background_small1',\n",
    " 'images_background_small2'])\n",
    "classNum = len(encoder)\n",
    "os.chdir(originPath)"
   ]
  },
  {
   "cell_type": "code",
   "execution_count": 7,
   "metadata": {},
   "outputs": [
    {
     "data": {
      "text/plain": [
       "(19280, 2)"
      ]
     },
     "execution_count": 7,
     "metadata": {},
     "output_type": "execute_result"
    }
   ],
   "source": [
    "FilePaths = np.array(FilePaths)\n",
    "FilePathsNp=np.reshape(FilePaths,(FilePaths.shape[0]*FilePaths.shape[1], FilePaths.shape[2]))\n",
    "# np.random.shuffle(FilePathsNp)\n",
    "FilePathsNp.shape"
   ]
  },
  {
   "cell_type": "code",
   "execution_count": 8,
   "metadata": {},
   "outputs": [
    {
     "data": {
      "text/plain": [
       "964"
      ]
     },
     "execution_count": 8,
     "metadata": {},
     "output_type": "execute_result"
    }
   ],
   "source": [
    "classNum"
   ]
  },
  {
   "cell_type": "code",
   "execution_count": 9,
   "metadata": {},
   "outputs": [],
   "source": [
    "encoderedLists = FilePathsNp[:,0].astype(int)\n",
    "imagePaths = FilePathsNp[:,1]"
   ]
  },
  {
   "cell_type": "code",
   "execution_count": 10,
   "metadata": {},
   "outputs": [
    {
     "name": "stdout",
     "output_type": "stream",
     "text": [
      "(19280, 964)\n"
     ]
    }
   ],
   "source": [
    "encoderedLists\n",
    "depth = len(encoderedLists)\n",
    "encodered =tf.one_hot(encoderedLists, classNum)\n",
    "print(encodered.shape)"
   ]
  },
  {
   "cell_type": "code",
   "execution_count": 11,
   "metadata": {},
   "outputs": [
    {
     "name": "stderr",
     "output_type": "stream",
     "text": [
      "C:\\Users\\james\\Anaconda3\\lib\\site-packages\\ipykernel_launcher.py:1: DeprecationWarning: `imread` is deprecated!\n",
      "`imread` is deprecated in SciPy 1.0.0, and will be removed in 1.2.0.\n",
      "Use ``imageio.imread`` instead.\n",
      "  \"\"\"Entry point for launching an IPython kernel.\n"
     ]
    }
   ],
   "source": [
    "photos=[misc.imread(x,flatten=True) for x in imagePaths]"
   ]
  },
  {
   "cell_type": "code",
   "execution_count": 12,
   "metadata": {},
   "outputs": [],
   "source": [
    "def rotGen (npArray, rotationAngles):\n",
    "    repeats=len(rotationAngles)\n",
    "    df=np.repeat(npArray, repeats, axis=0)\n",
    "    for i in range(df.shape[0]):\n",
    "        i-df.shape[0]/4"
   ]
  },
  {
   "cell_type": "code",
   "execution_count": 13,
   "metadata": {},
   "outputs": [],
   "source": [
    "dfphoto = np.array(photos)\n",
    "dfphoto = np.expand_dims(dfphoto,3)"
   ]
  },
  {
   "cell_type": "code",
   "execution_count": 15,
   "metadata": {},
   "outputs": [
    {
     "name": "stdout",
     "output_type": "stream",
     "text": [
      "(19280, 105, 105, 1, 1)\n"
     ]
    }
   ],
   "source": [
    "k=3\n",
    "channels=1\n",
    "dim_hidden=64\n",
    "stride = [1,2,2,1]\n",
    "dtype = tf.float32\n",
    "conv_initializer =  tf.contrib.layers.xavier_initializer_conv2d(dtype=dtype)\n",
    "fc_initializer =  tf.contrib.layers.xavier_initializer(dtype=dtype)\n",
    "data_tf = tf.convert_to_tensor(dfphoto, np.float32)\n",
    "data_tf =tf.expand_dims(data_tf,3)\n",
    "print(data_tf.shape)\n",
    "# data_tf = tf.reshape(data_tf, (-1, data_tf.shape[0],data_tf.shape[1], data_tf.shape[2]))\n",
    "# print(data_tf.shape)"
   ]
  },
  {
   "cell_type": "code",
   "execution_count": 16,
   "metadata": {},
   "outputs": [],
   "source": [
    "weights = {}\n",
    "weights['conv1'] = tf.get_variable('conv1', [k, k, channels, dim_hidden], initializer=conv_initializer, dtype=dtype)\n",
    "weights['b1'] = tf.Variable(tf.zeros([dim_hidden]))\n",
    "weights['conv2'] = tf.get_variable('conv2', [k, k, dim_hidden, dim_hidden], initializer=conv_initializer, dtype=dtype)\n",
    "weights['b2'] = tf.Variable(tf.zeros([dim_hidden]))\n",
    "# weights['conv3'] = tf.get_variable('conv3', [k, k, dim_hidden, dim_hidden], initializer=conv_initializer, dtype=dtype)\n",
    "# weights['b3'] = tf.Variable(tf.zeros([dim_hidden]))\n",
    "# weights['conv4'] = tf.get_variable('conv4', [k, k, dim_hidden, dim_hidden], initializer=conv_initializer, dtype=dtype)\n",
    "# weights['b4'] = tf.Variable(tf.zeros([dim_hidden]))"
   ]
  },
  {
   "cell_type": "code",
   "execution_count": 17,
   "metadata": {},
   "outputs": [],
   "source": [
    "def covnNet(input,weight, bais):\n",
    "    conv_output = tf.nn.conv2d(input, weight, stride, 'SAME') + bais\n",
    "    return tf.nn.relu(conv_output)"
   ]
  },
  {
   "cell_type": "code",
   "execution_count": 18,
   "metadata": {},
   "outputs": [
    {
     "name": "stdout",
     "output_type": "stream",
     "text": [
      "(964, 256)\n",
      "(964,)\n"
     ]
    }
   ],
   "source": [
    "ImageContextHolder = tf.placeholder(tf.float32, [None, data_tf.shape[1], data_tf.shape[2],data_tf.shape[3]])\n",
    "OneHotContextHolder = tf.placeholder(tf.float32, [None, classNum])\n",
    "\n",
    "hidden = covnNet(ImageContextHolder, weights['conv1'],weights['b1'] )\n",
    "hidden = covnNet(hidden, weights['conv2'],weights['b2'] )\n",
    "# hidden = covnNet(hidden, weights['conv3'],weights['b3'] )\n",
    "# hidden = covnNet(hidden, weights['conv4'],weights['b4'] )\n",
    "\n",
    "hidden = tf.contrib.layers.flatten(hidden)\n",
    "\n",
    "weights['w5'] = tf.Variable(tf.random_normal([tf.cast(hidden.shape[1], tf.int32) , classNum]),dtype=dtype, name='w5')\n",
    "weights['b5'] = tf.Variable(tf.zeros([classNum]), name='b5')\n",
    "\n",
    "weights['w6_1'] = tf.Variable(tf.random_normal([classNum,128]),dtype=dtype, name='w6_1')\n",
    "weights['w6_2'] = tf.Variable(tf.random_normal([classNum,128]),dtype=dtype, name=\"w6_2\")\n",
    "weights['b6'] = tf.Variable(tf.zeros([128*2]), name='b6')\n",
    "\n",
    "hidden = tf.matmul(weights['w5'],weights['w6_1'])\n",
    "hidden = tf.matmul(OneHotContextHolder,weights['w6_2'])\n",
    "hidden = tf.concat([weights['w6_1'],weights['w6_2']],axis=1)\n",
    "print(hidden.shape)\n",
    "hidden = tf.nn.relu(tf.add(hidden, weights['b6'] ))\n",
    "\n",
    "weights['w7'] = tf.Variable(tf.random_normal([128*2,128]),dtype=dtype, name=\"w6_2\")\n",
    "weights['b7'] = tf.Variable(tf.zeros([128]), name='b7')\n",
    "hidden = tf.add(tf.matmul(hidden, weights['w7']),weights['b7'])\n",
    "\n",
    "representation = tf.reduce_mean(hidden, axis=1)\n",
    "print(representation.shape)"
   ]
  },
  {
   "cell_type": "code",
   "execution_count": 19,
   "metadata": {},
   "outputs": [],
   "source": [
    "representation=tf.expand_dims(representation,1)"
   ]
  },
  {
   "cell_type": "code",
   "execution_count": 20,
   "metadata": {},
   "outputs": [],
   "source": [
    "ImageTargetHolder = tf.placeholder(tf.float32, [None, data_tf.shape[1], data_tf.shape[2],data_tf.shape[3]])\n",
    "OneHotTargetHolder = tf.placeholder(tf.float32, [None,classNum])\n",
    "\n",
    "weights['conv1_T'] = tf.get_variable('conv1_T', [k, k, channels, dim_hidden], initializer=conv_initializer, dtype=dtype)\n",
    "weights['b1_T'] = tf.Variable(tf.zeros([dim_hidden]))\n",
    "weights['conv2_T'] = tf.get_variable('conv2_T', [k, k, dim_hidden, dim_hidden], initializer=conv_initializer, dtype=dtype)\n",
    "weights['b2_T'] = tf.Variable(tf.zeros([dim_hidden]))\n",
    "hidden = covnNet(ImageTargetHolder, weights['conv1_T'],weights['b1_T'] )\n",
    "hidden = covnNet(hidden, weights['conv2_T'],weights['b2_T'] )\n"
   ]
  },
  {
   "cell_type": "code",
   "execution_count": 21,
   "metadata": {},
   "outputs": [],
   "source": [
    "hidden = tf.contrib.layers.flatten(hidden)\n",
    "weights['w3_T'] = tf.Variable(tf.random_normal([tf.cast(hidden.shape[1], tf.int32) , tf.cast(representation.shape[0],tf.int32)]),dtype=dtype, name='w3_T')\n",
    "weights['b3_T'] = tf.Variable(tf.zeros([tf.cast(representation.shape[0],tf.int32)]), name='b3_T')\n",
    "weights['w4_T'] = tf.Variable(tf.random_normal([tf.cast(representation.shape[0],tf.int32) ,128]),dtype=dtype, name='w4_T')\n",
    "hidden = tf.add(tf.matmul(hidden,weights['w3_T']), weights['b3_T'])\n",
    "hidden = tf.concat([weights['w4_T'],representation],axis=1)\n",
    "weights['b4_T'] = tf.Variable(tf.zeros([tf.cast(hidden.shape[1],tf.int32)]), name='b4_T')\n",
    "hidden = tf.add(hidden, weights['b4_T'])\n",
    "\n",
    "weights['w5_T'] = tf.Variable(tf.random_normal([tf.cast(hidden.shape[1],tf.int32) , classNum]),dtype=dtype, name='w5_T')\n",
    "weights['b5_T'] = tf.Variable(tf.zeros([classNum]), name='b5_T')\n",
    "\n",
    "hidden = tf.add(tf.matmul(hidden,weights['w5_T']), weights['b5_T'])\n",
    "hidden = tf.reduce_mean(hidden, axis=1)"
   ]
  },
  {
   "cell_type": "code",
   "execution_count": 22,
   "metadata": {},
   "outputs": [],
   "source": [
    "# hidden=tf.nn.sigmoid(hidden)"
   ]
  },
  {
   "cell_type": "code",
   "execution_count": 23,
   "metadata": {},
   "outputs": [],
   "source": [
    "hidden = tf.expand_dims(hidden,0)"
   ]
  },
  {
   "cell_type": "code",
   "execution_count": 24,
   "metadata": {},
   "outputs": [
    {
     "data": {
      "text/plain": [
       "<tf.Tensor 'ExpandDims_2:0' shape=(1, 964) dtype=float32>"
      ]
     },
     "execution_count": 24,
     "metadata": {},
     "output_type": "execute_result"
    }
   ],
   "source": [
    "hidden"
   ]
  },
  {
   "cell_type": "code",
   "execution_count": 25,
   "metadata": {},
   "outputs": [
    {
     "data": {
      "text/plain": [
       "<tf.Tensor 'Placeholder_3:0' shape=(?, 964) dtype=float32>"
      ]
     },
     "execution_count": 25,
     "metadata": {},
     "output_type": "execute_result"
    }
   ],
   "source": [
    "OneHotTargetHolder"
   ]
  },
  {
   "cell_type": "code",
   "execution_count": 26,
   "metadata": {},
   "outputs": [],
   "source": [
    "loss=tf.nn.sigmoid_cross_entropy_with_logits(logits=hidden, labels=OneHotTargetHolder) "
   ]
  },
  {
   "cell_type": "code",
   "execution_count": 27,
   "metadata": {},
   "outputs": [
    {
     "name": "stdout",
     "output_type": "stream",
     "text": [
      "Tensor(\"ArgMax:0\", shape=(1,), dtype=int64)\n"
     ]
    }
   ],
   "source": [
    "predict=tf.argmax(hidden, axis=1)\n",
    "print(predict)"
   ]
  },
  {
   "cell_type": "code",
   "execution_count": 28,
   "metadata": {},
   "outputs": [],
   "source": [
    "loss= tf.reduce_mean(loss)"
   ]
  },
  {
   "cell_type": "code",
   "execution_count": 29,
   "metadata": {},
   "outputs": [],
   "source": [
    "optimizer = tf.train.AdamOptimizer(1e-4)\n",
    "train_step = optimizer.minimize(loss)"
   ]
  },
  {
   "cell_type": "code",
   "execution_count": 30,
   "metadata": {},
   "outputs": [
    {
     "data": {
      "text/plain": [
       "tf.float32"
      ]
     },
     "execution_count": 30,
     "metadata": {},
     "output_type": "execute_result"
    }
   ],
   "source": [
    "encodered.dtype"
   ]
  },
  {
   "cell_type": "code",
   "execution_count": 31,
   "metadata": {},
   "outputs": [],
   "source": [
    "TRAINING_ITERATIONS= 10000\n",
    "# imagePaths\n",
    "# encoderedLists\n",
    "contextNum = int(depth * 0.5)\n",
    "contextPic = dfphoto[:contextNum,:,:]\n",
    "contextlabel = encodered[:contextNum]\n",
    "\n",
    "targetPic= dfphoto[contextNum:,:,:]\n",
    "targetlabel = encodered[contextNum:]"
   ]
  },
  {
   "cell_type": "code",
   "execution_count": 32,
   "metadata": {},
   "outputs": [
    {
     "data": {
      "text/plain": [
       "TensorShape([Dimension(9640), Dimension(964)])"
      ]
     },
     "execution_count": 32,
     "metadata": {},
     "output_type": "execute_result"
    }
   ],
   "source": [
    "targetlabel.shape"
   ]
  },
  {
   "cell_type": "code",
   "execution_count": 33,
   "metadata": {},
   "outputs": [
    {
     "data": {
      "text/plain": [
       "TensorShape([Dimension(None), Dimension(964)])"
      ]
     },
     "execution_count": 33,
     "metadata": {},
     "output_type": "execute_result"
    }
   ],
   "source": [
    "OneHotContextHolder.shape"
   ]
  },
  {
   "cell_type": "code",
   "execution_count": 34,
   "metadata": {},
   "outputs": [
    {
     "name": "stdout",
     "output_type": "stream",
     "text": [
      "0.713975\n",
      "0.04326541\n",
      "0.012007829\n",
      "0.00894624\n",
      "0.008266443\n",
      "0.007953144\n",
      "0.0077418527\n",
      "0.0076169292\n",
      "0.0075457715\n",
      "0.0075032758\n",
      "0.0074782996\n",
      "()\n",
      "[array([732], dtype=int64)]\n"
     ]
    }
   ],
   "source": [
    "with tf.Session() as sess:\n",
    "    feed_dict = {ImageContextHolder: contextPic, OneHotContextHolder: contextlabel.eval(),  ImageTargetHolder: targetPic, OneHotTargetHolder: targetlabel.eval()}\n",
    "    sess.run(tf.global_variables_initializer())\n",
    "    for it in range(TRAINING_ITERATIONS):\n",
    "        _,loss_reduce =sess.run([train_step, loss], feed_dict)\n",
    "        if (it % 1000 == 0):\n",
    "            print(loss_reduce)\n",
    "    feed_dict = {ImageContextHolder: contextPic, OneHotContextHolder: contextlabel.eval(),  ImageTargetHolder: targetPic, OneHotTargetHolder: targetlabel.eval()}\n",
    "    predictions=sess.run([predict], feed_dict)"
   ]
  },
  {
   "cell_type": "code",
   "execution_count": 35,
   "metadata": {},
   "outputs": [
    {
     "name": "stdout",
     "output_type": "stream",
     "text": [
      "[array([[-0.14258292, -0.01135773, -0.25911862,  0.09460506, -0.44374433,\n",
      "         0.09245823,  0.25431526, -0.3928016 , -0.48691395,  0.5627697 ,\n",
      "         0.19481817, -0.18132351, -0.21652375,  0.23718779, -0.2997377 ,\n",
      "         0.04079618, -0.5040477 ,  0.11497135, -0.03864407, -0.17922863,\n",
      "        -0.11554082,  0.13532312, -0.40023142,  0.09149925,  0.36344704,\n",
      "        -0.11107116, -0.39824915, -0.17777711,  0.01672463, -0.02603862,\n",
      "        -0.15771547, -0.32625896, -0.31676137, -0.11084493, -0.43941388,\n",
      "        -0.4001232 , -0.62928534, -0.09772313, -0.4657404 , -0.2800735 ,\n",
      "         0.06449645, -0.04879251,  0.386899  , -0.05884011, -0.09590133,\n",
      "         0.16744176,  0.05613739, -0.0983773 , -0.55905634,  0.279277  ,\n",
      "        -0.02948554,  0.00359707, -0.32495117, -0.12788187, -0.9031786 ,\n",
      "        -0.11602707, -0.30447558, -0.12473563,  0.21251023,  0.16242258,\n",
      "         0.3422519 , -0.21752441, -0.31386822,  0.10047138, -0.24262519,\n",
      "        -0.59574896, -0.05190565, -0.4338803 , -0.08107453, -0.38284627,\n",
      "        -0.2654035 , -0.19410683,  0.04020229, -0.28577814, -0.3271512 ,\n",
      "        -0.42309886,  0.21302964, -0.38155454,  0.40627086,  0.34066603,\n",
      "         0.15055312, -0.08449291,  0.06481753, -0.3964521 , -0.09363247,\n",
      "         0.17379251, -0.31269082, -0.32772416, -0.08341106,  0.26874083,\n",
      "        -0.36898997, -0.16324258,  0.18586841, -0.2688946 , -0.21836583,\n",
      "        -0.2577567 ,  0.47680673, -0.1544407 ,  0.14822404, -0.01942791,\n",
      "        -0.15576813, -0.03530507, -0.0753806 ,  0.49055982, -0.1921108 ,\n",
      "         0.5361632 ,  0.22956489,  0.502452  , -0.26123175, -0.03583948,\n",
      "        -0.0721144 ,  0.22689736,  0.32023337, -0.8189625 , -0.31735608,\n",
      "         0.47356707, -0.51793253,  0.06422725,  0.09908924, -0.34336036,\n",
      "         0.06314154, -0.021178  , -0.10754782,  0.06468616,  0.04158883,\n",
      "         0.00321261, -0.04524   , -0.46093467, -0.08664401, -0.14426656,\n",
      "        -0.33125544, -0.03072314,  0.09635025, -0.04819814, -0.22953312,\n",
      "        -0.18723756, -0.4502967 ,  0.05504512, -0.13370426, -0.3947383 ,\n",
      "        -0.44712794, -0.54393435,  0.10226598,  0.6903983 , -0.12100901,\n",
      "         0.11063032,  0.04260734, -0.52404815, -0.29501292,  0.33972123,\n",
      "        -0.03746216,  0.30474433,  0.4755575 , -0.32772636, -0.36020413,\n",
      "        -0.07263922,  0.3492365 , -0.23032746,  0.06479369, -0.01582067,\n",
      "         0.6502844 , -0.5098011 , -0.3783321 ,  0.16836198,  0.26765993,\n",
      "        -0.10556334,  0.32761037, -0.2659586 , -0.30181754, -0.09575168,\n",
      "         0.2788243 , -0.32850516,  0.25546572, -0.09269691, -0.21783419,\n",
      "        -0.8619668 , -0.27168363, -0.4851822 , -0.18405053, -0.712028  ,\n",
      "        -0.09509838, -0.03017951,  0.02479229, -0.352351  , -0.7397898 ,\n",
      "        -0.09327668, -0.6986217 , -0.54283416, -0.7018972 ,  0.07922186,\n",
      "        -0.15904796, -0.28178012, -0.20277762, -0.06320873, -0.11640701,\n",
      "         0.29873878,  0.07840585, -0.2626435 , -0.63804054, -0.01205358,\n",
      "        -0.21178253,  0.4049513 ,  0.6690841 , -0.00856458, -0.0136425 ,\n",
      "         0.01403934, -0.10611769, -0.21792781, -0.33822584,  0.07715557,\n",
      "        -0.04548111, -0.49424294, -0.16024943, -0.46871296,  0.5812279 ,\n",
      "        -0.13165249, -0.15807669, -0.8372533 , -0.3038278 ,  0.2252064 ,\n",
      "         0.8269196 ,  0.21884795, -0.23204179, -0.23458663, -0.31813803,\n",
      "         0.2378649 , -0.32826945,  0.1518052 , -0.390225  , -0.10429914,\n",
      "         0.02626731,  0.03191221, -0.02068566,  0.20289473,  0.08053899,\n",
      "         0.0429029 ,  0.62440044,  0.01022915,  0.0243862 , -0.17697906,\n",
      "         0.03433926, -0.17159091,  0.16440782, -0.2777289 ,  0.41822094,\n",
      "         0.20874907, -0.214953  ,  0.07350469,  0.03989081, -0.20093922,\n",
      "        -0.10952564,  0.27064472,  0.2813268 , -0.41973528, -0.35485795,\n",
      "        -0.22470152,  0.08297673,  0.1704916 ,  0.18814832,  0.4514796 ,\n",
      "        -0.8045083 , -0.10198344, -0.13272145, -0.08419801, -0.62491536,\n",
      "        -0.4054658 ,  0.2439652 , -0.50051355, -0.37093806,  0.11160994,\n",
      "        -0.30887818,  0.4334657 , -0.2794905 , -0.31342015,  0.34447914,\n",
      "        -0.12238828,  0.15237851, -0.31965157,  0.22863029,  0.15524073,\n",
      "         0.32798964, -0.3049845 , -0.29874626, -0.6705409 ,  0.33752638,\n",
      "        -0.09234495,  0.24048676,  0.4797485 , -0.11140735,  0.627041  ,\n",
      "         0.11268645, -0.17155966, -0.27022403, -0.34885773,  0.25531295,\n",
      "        -0.14421241, -0.26857868,  0.8164199 ,  0.03550958, -0.7853213 ,\n",
      "        -0.35319728,  0.38860494,  0.62972826, -0.16406086, -0.2529639 ,\n",
      "         0.4993727 , -0.11326054, -0.0212455 , -0.29308093,  0.61266875,\n",
      "        -0.04373536,  0.28854105, -0.26787987,  0.49833718,  0.05159945,\n",
      "         0.14377299,  0.02919982, -0.31821746, -0.1969341 , -0.3737957 ,\n",
      "        -0.25534958, -0.15084937, -0.02049423, -0.47209972,  0.12904766,\n",
      "         0.15030126, -0.33214152,  0.33872187, -0.6284341 ,  0.47181138,\n",
      "         0.49030662,  0.16537185,  0.04802302, -0.68149406, -0.42597976,\n",
      "        -0.20915706, -0.03760614, -0.02874656,  0.0552743 ,  0.3971931 ,\n",
      "        -0.01091877, -0.22970964,  0.1201518 ,  0.03653735, -0.2945998 ,\n",
      "         0.2711685 ,  0.3963376 , -0.499547  ,  0.26488984, -0.33870712,\n",
      "         0.0079384 , -0.12065289,  0.12730797, -0.18667014,  0.47588718,\n",
      "        -0.24560696,  0.30494142, -0.0141014 , -0.2814157 , -0.09253857,\n",
      "         0.0874681 , -0.03516154,  0.48337945, -0.32264057,  0.01192633,\n",
      "         0.1267497 ,  0.11798275, -0.19501108, -0.43748623, -0.6194783 ,\n",
      "        -0.18349296, -0.03763264,  0.05223599, -0.01358588, -0.31733564,\n",
      "        -0.48686117, -0.19594155,  0.8824821 , -0.34272987, -0.09541701,\n",
      "         0.05361427,  0.00335766, -0.12123972, -0.09611924,  0.29676107,\n",
      "        -0.36622587,  0.11464553,  0.3125694 , -0.00346598, -0.05938567,\n",
      "         0.08429886,  0.07267652,  0.01317434, -0.45192754,  0.02378918,\n",
      "        -0.19356993,  0.21863863,  0.15563855,  0.31343755, -0.47891432,\n",
      "         0.5816815 , -0.02942062,  0.3960276 , -0.25460112, -0.29144737,\n",
      "         0.02763756, -0.2503993 , -0.11711202,  0.03855936,  0.6981903 ,\n",
      "         0.03735427,  0.20664413,  0.14577518,  0.3963054 ,  0.06713837,\n",
      "         0.1521061 , -0.00637827,  0.33489037, -0.1445889 ,  0.2623139 ,\n",
      "         0.11942808,  0.20384079, -0.5288048 , -0.52390486,  0.29242256,\n",
      "         0.04524272, -0.297081  , -0.0912062 ,  0.1428512 ,  0.2489362 ,\n",
      "         0.55111414, -0.51224023,  0.27664232, -0.38689458, -0.34326208,\n",
      "        -0.2250387 , -0.18625998, -0.8161162 , -0.4677587 ,  0.11743295,\n",
      "        -1.0297606 ,  0.09741026, -0.08294537,  0.01871903,  0.02622073,\n",
      "         0.41068703,  0.12707241,  0.15700677, -0.13582961,  0.03869444,\n",
      "        -0.00624784, -0.5389911 , -0.02335828,  0.18348742, -0.0251239 ,\n",
      "         0.01635731, -0.13017361,  0.37313026,  0.59838283,  0.18124554,\n",
      "        -0.46493673, -0.19355069,  0.25733912,  0.03210349, -0.2030898 ,\n",
      "         0.08584361,  0.5620684 , -0.23116255, -0.21077548, -0.33557007,\n",
      "         0.3353575 ,  0.07328492,  0.23799013, -0.24986048,  0.22434779,\n",
      "        -0.45196983, -0.11632601,  0.06263149,  0.04718581,  0.07829043,\n",
      "        -0.07756186, -0.12248591,  0.15893054, -0.3170149 , -0.16819552,\n",
      "        -0.00184704,  0.26456034, -0.2988227 , -0.32054144, -0.07860962,\n",
      "        -0.40497842, -0.51915467, -0.26203895,  0.8993438 ,  0.18851975,\n",
      "         0.56139   , -0.23106495, -0.5885749 ,  0.0358371 ,  0.6185406 ,\n",
      "        -0.13106278,  0.06997975,  0.0737986 , -0.14318281, -0.21664803,\n",
      "         0.22376795,  0.33630395,  0.21970484, -0.0255229 , -0.49882343,\n",
      "        -0.20315942, -0.1855323 ,  0.51187295, -0.3128276 , -0.17665587,\n",
      "        -0.4986348 , -0.29612827, -0.33538482,  0.01386163, -0.2110128 ,\n",
      "        -0.39985257,  0.05081509, -0.45658228, -0.11099623,  0.08007445,\n",
      "         0.11198549,  0.20333622,  0.29525518, -0.50560004,  0.20822482,\n",
      "        -0.0409736 ,  0.03431067,  0.24866904, -0.3185321 , -0.26758668,\n",
      "         0.23929536, -0.38084868, -0.05579291, -0.15366639,  0.6555301 ,\n",
      "         0.11993188, -0.22387049, -0.6557203 ,  0.15459256,  0.13213633,\n",
      "        -0.02671338, -0.30847162,  0.08523554, -0.46356648,  0.00715589,\n",
      "        -0.67919177, -0.18987714, -0.11914471,  0.21489806, -0.05332635,\n",
      "        -0.4065694 ,  0.4329299 , -0.00531851,  0.1069677 ,  0.42803282,\n",
      "        -0.15413924,  0.22517273, -0.00704109, -0.28428498, -0.43690062,\n",
      "        -0.16884552, -0.22169194,  0.36714628, -0.06216362, -0.0624214 ,\n",
      "        -0.07726187, -0.14358985,  0.39906126, -0.47632894, -0.12588581,\n",
      "         0.19559336, -0.14163706, -0.3886851 ,  0.05538377,  0.15163921,\n",
      "         0.24120073, -0.73200333,  0.398558  ,  0.06589571, -0.16758488,\n",
      "        -0.15497981,  0.5486925 ,  0.36934856,  0.25862762, -0.01817338,\n",
      "         0.5620222 , -0.21969375,  0.04406306, -0.26137435, -0.35449573,\n",
      "         0.31305057,  0.40426216,  0.12378466, -0.49824378, -0.39572448,\n",
      "        -0.3097326 , -0.11361064,  0.03969639,  0.09856433, -0.36526915,\n",
      "         0.11357371, -0.28599244, -0.08942486, -0.5679746 , -0.20452039,\n",
      "         0.13395761,  0.2651185 ,  0.10894532, -0.00739001,  0.1658776 ,\n",
      "         0.436164  ,  0.2956752 , -0.27287337, -0.190877  ,  0.5155091 ,\n",
      "        -0.15019955,  0.08831119,  0.11176267, -0.04375   ,  0.25321305,\n",
      "         0.20447548,  0.0069928 , -0.17722304, -0.375153  , -0.00629422,\n",
      "        -0.43091092, -0.60297084, -0.20995505, -0.13826308,  0.26873952,\n",
      "        -0.1560107 , -0.56934553,  0.4795498 ,  0.3781509 , -0.22491659,\n",
      "        -0.1629606 , -0.17385031,  0.44656834, -0.5643195 , -0.33184355,\n",
      "        -0.12256507,  0.86763805,  0.4976338 , -0.05214049, -0.24084063,\n",
      "        -0.3375789 ,  0.42862135,  0.04900648, -0.3891012 , -0.6153707 ,\n",
      "        -0.11387799, -0.22654057, -0.08567873,  0.04423996,  0.02727616,\n",
      "        -0.2909239 , -0.04746876, -0.23612484, -0.3238099 ,  0.02820517,\n",
      "        -0.31436726, -0.62754637,  0.25455266, -0.06297634, -0.46454787,\n",
      "        -0.18819794, -0.08707219,  0.3343441 , -0.26335976,  0.23211177,\n",
      "         0.20011804, -0.1326028 ,  0.2327781 , -0.22302136, -0.551957  ,\n",
      "        -0.30567083,  0.41606024,  0.21033907, -0.2213503 ,  0.01332752,\n",
      "         0.00468682,  0.33515805,  0.23110539,  0.5539007 ,  0.14621697,\n",
      "         0.17089182, -0.47064835,  0.22912328,  0.08240237,  0.27221328,\n",
      "         0.08780527, -0.4606249 , -0.43490294,  0.06314787,  0.01191131,\n",
      "         0.32898277, -0.5230826 ,  0.09564719,  0.41790304,  0.11655097,\n",
      "        -0.2836509 ,  0.08645488,  0.12711397,  0.16268295, -0.1648285 ,\n",
      "        -0.06858488, -0.47048733,  0.5881558 ,  0.13570008,  0.0701675 ,\n",
      "         0.07752542, -0.759617  , -0.13177527,  0.5139719 , -0.04708674,\n",
      "         0.10550873, -0.21655124, -0.08926675,  0.27499422,  0.3197091 ,\n",
      "         0.28175166, -0.36541247,  0.49035242,  0.14107451, -0.37522686,\n",
      "         0.5938724 ,  0.15995213, -0.3320502 , -0.49216452, -0.07400841,\n",
      "        -0.3099885 ,  0.18050392, -0.06386737, -0.66473794, -0.17565686,\n",
      "        -0.17266218,  0.44835755, -0.21888018,  0.2352428 ,  0.31587225,\n",
      "         0.16563481, -0.32806522,  0.15780409, -0.2486891 , -0.639708  ,\n",
      "        -0.7538148 , -0.35499325, -0.40477288,  0.08177549,  0.03766733,\n",
      "        -0.40597868, -0.42069265,  0.02055467,  0.18328586, -0.1766474 ,\n",
      "         0.38320905, -0.06929644, -0.3594173 ,  0.0328689 ,  0.04300356,\n",
      "         0.26673332,  0.25147876,  0.57234657,  0.30352333, -0.12221346,\n",
      "         0.05918924, -0.1067769 , -0.01510197, -0.50162935,  0.09570073,\n",
      "        -0.48137867, -0.26522154, -0.07422842,  0.15943757, -0.29904947,\n",
      "        -0.40885216,  0.20463243, -0.20150168,  0.12842196, -0.06624109,\n",
      "        -0.13338913,  0.0587221 , -0.3168742 ,  0.2337336 , -0.0032084 ,\n",
      "         0.12067118, -0.44435525, -0.68616194,  0.10436852, -0.07899886,\n",
      "        -0.34035596,  0.5031751 , -0.09991564,  0.2599882 , -0.30401778,\n",
      "        -0.10178716, -0.16043521, -0.2546693 ,  0.20507705,  0.08968518,\n",
      "        -0.28404838,  0.13561283, -0.6625474 , -0.13164884, -0.5940047 ,\n",
      "         0.22155252,  0.00108071, -0.04795939,  0.0291516 ,  0.07786008,\n",
      "        -0.12469874,  0.4631507 , -0.33016685, -0.03919454, -1.0787305 ,\n",
      "         0.04471254,  0.07994328, -0.90059656, -0.0106977 , -0.8264259 ,\n",
      "        -0.25037137, -0.30059063, -0.558101  , -0.02515523,  0.05404866,\n",
      "         0.46433356,  0.2687205 ,  0.04774823, -0.35916734,  0.20559675,\n",
      "        -0.3487801 , -0.33092993,  0.6240414 , -0.625605  , -0.1358571 ,\n",
      "        -0.07183897,  0.40183038, -0.14734223, -0.55017865, -0.15426962,\n",
      "        -0.055999  ,  0.09439207,  0.2043012 ,  0.11960491, -0.34163216,\n",
      "        -0.30373374,  0.23667575,  0.03891729,  0.38669482,  0.26471552,\n",
      "        -0.3502044 ,  0.02166204, -0.6541658 , -0.04562762, -0.3148017 ,\n",
      "        -0.00496556, -0.52584374, -0.00331405,  0.3010028 ,  0.24839015,\n",
      "        -0.1864379 , -0.20062484, -0.52062184,  0.228416  ,  0.6362093 ,\n",
      "         0.2339016 ,  0.09571948,  0.9262184 , -0.1293043 ,  0.5153596 ,\n",
      "         0.5731685 ,  0.25790483, -0.28084788,  0.17195366, -0.15557563,\n",
      "        -0.41323343, -0.00368273, -0.13110785,  0.07732127,  0.0337712 ,\n",
      "        -0.12762657, -0.0446211 ,  0.04956202, -0.12784317, -0.12353582,\n",
      "        -0.20957631,  0.00621745,  0.04160708, -0.33122948, -0.4750746 ,\n",
      "         0.2536498 ,  0.08572155, -0.00706881,  0.11420512, -0.06436713,\n",
      "         0.31386068,  0.2217749 ,  0.4218915 , -0.339446  , -0.14427973,\n",
      "        -0.1158458 , -0.07747104,  0.4062184 , -0.49517518,  0.12004779,\n",
      "        -0.47134557,  0.33831972,  0.4540528 , -0.20492345, -0.13483593,\n",
      "        -0.2534561 , -0.18542528,  0.33387408, -0.17179032, -0.1087632 ,\n",
      "         0.36747736,  0.32518417, -0.17817128, -0.13379666,  0.1232474 ,\n",
      "        -0.26643583, -0.1880617 ,  0.21477994,  0.20035541,  0.50511104,\n",
      "        -0.2817724 , -0.35350358, -0.17145352, -0.00614734, -0.04251808,\n",
      "         0.00430578,  0.23401602,  0.00323892, -0.21346888,  0.3091998 ,\n",
      "        -0.11010736,  0.10048079, -0.04124875, -0.02414159, -0.09865145,\n",
      "        -0.15699941,  0.42130113, -0.35605225, -0.31551594, -0.7762456 ,\n",
      "         0.2109181 ,  0.22447771,  0.28142875, -0.41238838, -0.52391106,\n",
      "         0.02009497, -0.38259172, -0.08893235, -0.08728777, -0.38750264,\n",
      "        -0.05366196,  0.02765766,  0.0499392 , -0.04133024]],\n",
      "      dtype=float32)]\n"
     ]
    },
    {
     "name": "stdout",
     "output_type": "stream",
     "text": [
      "[1. 0. 0. 0. 0. 0. 0. 0. 0. 0. 0. 0. 0. 0. 0. 0. 0. 0. 0. 0. 0. 0. 0. 0.\n",
      " 0. 0. 0. 0. 0. 0. 0. 0. 0. 0. 0. 0. 0. 0. 0. 0. 0. 0. 0. 0. 0. 0. 0. 0.\n",
      " 0. 0. 0. 0. 0. 0. 0. 0. 0. 0. 0. 0. 0. 0. 0. 0. 0. 0. 0. 0. 0. 0. 0. 0.\n",
      " 0. 0. 0. 0. 0. 0. 0. 0. 0. 0. 0. 0. 0. 0. 0. 0. 0. 0. 0. 0. 0. 0. 0. 0.\n",
      " 0. 0. 0. 0. 0. 0. 0. 0. 0. 0. 0. 0. 0. 0. 0. 0. 0. 0. 0. 0. 0. 0. 0. 0.\n",
      " 0. 0. 0. 0. 0. 0. 0. 0. 0. 0. 0. 0. 0. 0. 0. 0. 0. 0. 0. 0. 0. 0. 0. 0.\n",
      " 0. 0. 0. 0. 0. 0. 0. 0. 0. 0. 0. 0. 0. 0. 0. 0. 0. 0. 0. 0. 0. 0. 0. 0.\n",
      " 0. 0. 0. 0. 0. 0. 0. 0. 0. 0. 0. 0. 0. 0. 0. 0. 0. 0. 0. 0. 0. 0. 0. 0.\n",
      " 0. 0. 0. 0. 0. 0. 0. 0. 0. 0. 0. 0. 0. 0. 0. 0. 0. 0. 0. 0. 0. 0. 0. 0.\n",
      " 0. 0. 0. 0. 0. 0. 0. 0. 0. 0. 0. 0. 0. 0. 0. 0. 0. 0. 0. 0. 0. 0. 0. 0.\n",
      " 0. 0. 0. 0. 0. 0. 0. 0. 0. 0. 0. 0. 0. 0. 0. 0. 0. 0. 0. 0. 0. 0. 0. 0.\n",
      " 0. 0. 0. 0. 0. 0. 0. 0. 0. 0. 0. 0. 0. 0. 0. 0. 0. 0. 0. 0. 0. 0. 0. 0.\n",
      " 0. 0. 0. 0. 0. 0. 0. 0. 0. 0. 0. 0. 0. 0. 0. 0. 0. 0. 0. 0. 0. 0. 0. 0.\n",
      " 0. 0. 0. 0. 0. 0. 0. 0. 0. 0. 0. 0. 0. 0. 0. 0. 0. 0. 0. 0. 0. 0. 0. 0.\n",
      " 0. 0. 0. 0. 0. 0. 0. 0. 0. 0. 0. 0. 0. 0. 0. 0. 0. 0. 0. 0. 0. 0. 0. 0.\n",
      " 0. 0. 0. 0. 0. 0. 0. 0. 0. 0. 0. 0. 0. 0. 0. 0. 0. 0. 0. 0. 0. 0. 0. 0.\n",
      " 0. 0. 0. 0. 0. 0. 0. 0. 0. 0. 0. 0. 0. 0. 0. 0. 0. 0. 0. 0. 0. 0. 0. 0.\n",
      " 0. 0. 0. 0. 0. 0. 0. 0. 0. 0. 0. 0. 0. 0. 0. 0. 0. 0. 0. 0. 0. 0. 0. 0.\n",
      " 0. 0. 0. 0. 0. 0. 0. 0. 0. 0. 0. 0. 0. 0. 0. 0. 0. 0. 0. 0. 0. 0. 0. 0.\n",
      " 0. 0. 0. 0. 0. 0. 0. 0. 0. 0. 0. 0. 0. 0. 0. 0. 0. 0. 0. 0. 0. 0. 0. 0.\n",
      " 0. 0. 0. 0. 0. 0. 0. 0. 0. 0. 0. 0. 0. 0. 0. 0. 0. 0. 0. 0. 0. 0. 0. 0.\n",
      " 0. 0. 0. 0. 0. 0. 0. 0. 0. 0. 0. 0. 0. 0. 0. 0. 0. 0. 0. 0. 0. 0. 0. 0.\n",
      " 0. 0. 0. 0. 0. 0. 0. 0. 0. 0. 0. 0. 0. 0. 0. 0. 0. 0. 0. 0. 0. 0. 0. 0.\n",
      " 0. 0. 0. 0. 0. 0. 0. 0. 0. 0. 0. 0. 0. 0. 0. 0. 0. 0. 0. 0. 0. 0. 0. 0.\n",
      " 0. 0. 0. 0. 0. 0. 0. 0. 0. 0. 0. 0. 0. 0. 0. 0. 0. 0. 0. 0. 0. 0. 0. 0.\n",
      " 0. 0. 0. 0. 0. 0. 0. 0. 0. 0. 0. 0. 0. 0. 0. 0. 0. 0. 0. 0. 0. 0. 0. 0.\n",
      " 0. 0. 0. 0. 0. 0. 0. 0. 0. 0. 0. 0. 0. 0. 0. 0. 0. 0. 0. 0. 0. 0. 0. 0.\n",
      " 0. 0. 0. 0. 0. 0. 0. 0. 0. 0. 0. 0. 0. 0. 0. 0. 0. 0. 0. 0. 0. 0. 0. 0.\n",
      " 0. 0. 0. 0. 0. 0. 0. 0. 0. 0. 0. 0. 0. 0. 0. 0. 0. 0. 0. 0. 0. 0. 0. 0.\n",
      " 0. 0. 0. 0. 0. 0. 0. 0. 0. 0. 0. 0. 0. 0. 0. 0. 0. 0. 0. 0. 0. 0. 0. 0.\n",
      " 0. 0. 0. 0. 0. 0. 0. 0. 0. 0. 0. 0. 0. 0. 0. 0. 0. 0. 0. 0. 0. 0. 0. 0.\n",
      " 0. 0. 0. 0. 0. 0. 0. 0. 0. 0. 0. 0. 0. 0. 0. 0. 0. 0. 0. 0. 0. 0. 0. 0.\n",
      " 0. 0. 0. 0. 0. 0. 0. 0. 0. 0. 0. 0. 0. 0. 0. 0. 0. 0. 0. 0. 0. 0. 0. 0.\n",
      " 0. 0. 0. 0. 0. 0. 0. 0. 0. 0. 0. 0. 0. 0. 0. 0. 0. 0. 0. 0. 0. 0. 0. 0.\n",
      " 0. 0. 0. 0. 0. 0. 0. 0. 0. 0. 0. 0. 0. 0. 0. 0. 0. 0. 0. 0. 0. 0. 0. 0.\n",
      " 0. 0. 0. 0. 0. 0. 0. 0. 0. 0. 0. 0. 0. 0. 0. 0. 0. 0. 0. 0. 0. 0. 0. 0.\n",
      " 0. 0. 0. 0. 0. 0. 0. 0. 0. 0. 0. 0. 0. 0. 0. 0. 0. 0. 0. 0. 0. 0. 0. 0.\n",
      " 0. 0. 0. 0. 0. 0. 0. 0. 0. 0. 0. 0. 0. 0. 0. 0. 0. 0. 0. 0. 0. 0. 0. 0.\n",
      " 0. 0. 0. 0. 0. 0. 0. 0. 0. 0. 0. 0. 0. 0. 0. 0. 0. 0. 0. 0. 0. 0. 0. 0.\n",
      " 0. 0. 0. 0. 0. 0. 0. 0. 0. 0. 0. 0. 0. 0. 0. 0. 0. 0. 0. 0. 0. 0. 0. 0.\n",
      " 0. 0. 0. 0.]\n",
      "0\n"
     ]
    }
   ],
   "source": [
    "contextPic = dfphoto[:contextNum,:,:]\n",
    "contextlabel = encodered[:contextNum]\n",
    "targetPic= dfphoto[0,:,:]\n",
    "targetlabel = encodered[0]\n",
    "targetPic=tf.expand_dims(targetPic,0)\n",
    "targetlabel=tf.expand_dims(targetlabel,0)\n",
    "\n",
    "with tf.Session() as sess:\n",
    "    sess.run(tf.global_variables_initializer())\n",
    "    feed_dict = {ImageContextHolder: contextPic, OneHotContextHolder: contextlabel.eval(),  ImageTargetHolder: targetPic.eval(), OneHotTargetHolder: targetlabel.eval()}\n",
    "    predictions=sess.run([hidden], feed_dict)\n",
    "    print(predictions)\n",
    "    print(encodered[0].eval())\n",
    "    print(encoderedLists[0])"
   ]
  },
  {
   "cell_type": "code",
   "execution_count": 36,
   "metadata": {},
   "outputs": [
    {
     "data": {
      "text/plain": [
       "0.1704916"
      ]
     },
     "execution_count": 36,
     "metadata": {},
     "output_type": "execute_result"
    }
   ],
   "source": [
    "predictions[0][0][257]"
   ]
  },
  {
   "cell_type": "code",
   "execution_count": null,
   "metadata": {},
   "outputs": [],
   "source": []
  }
 ],
 "metadata": {
  "kernelspec": {
   "display_name": "Python 3",
   "language": "python",
   "name": "python3"
  },
  "language_info": {
   "codemirror_mode": {
    "name": "ipython",
    "version": 3
   },
   "file_extension": ".py",
   "mimetype": "text/x-python",
   "name": "python",
   "nbconvert_exporter": "python",
   "pygments_lexer": "ipython3",
   "version": "3.6.5"
  }
 },
 "nbformat": 4,
 "nbformat_minor": 2
}
